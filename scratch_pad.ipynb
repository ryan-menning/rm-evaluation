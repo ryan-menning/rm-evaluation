{
 "cells": [
  {
   "cell_type": "code",
   "execution_count": 147,
   "metadata": {},
   "outputs": [],
   "source": [
    "# import custom_functions as cf\n",
    "import pandas as pd\n",
    "import numpy as np\n",
    "import os\n",
    "\n",
    "import itertools as it\n",
    "\n",
    "from sklearn.linear_model import LogisticRegression\n",
    "from sklearn import preprocessing\n",
    "from sklearn.model_selection import train_test_split\n",
    "from sklearn.metrics import confusion_matrix, classification_report,accuracy_score"
   ]
  },
  {
   "cell_type": "code",
   "execution_count": 144,
   "metadata": {},
   "outputs": [],
   "source": [
    "def list_files(files):\n",
    "    \"\"\"Accepts a list and returns a dictionary of each item in list with a numbered index (key) starting at 1\"\"\"\n",
    "\n",
    "    dir_list = {0:'Exit'}\n",
    "    file_count = 0\n",
    "    for file in files:\n",
    "        file_count +=1\n",
    "        dir_list[file_count] = file  # assign a number to each item in the list starting with 1 \n",
    "    return dir_list  # returns the dictionary of items in the list\n",
    "\n",
    "def print_dict(dict_items):\n",
    "    \"\"\"Prints the (key : value) pairing in a dictionary\"\"\"\n",
    "\n",
    "    for key, value in dict_items.items():\n",
    "        print(key, \":\", value)    \n",
    "\n",
    "def check_dict(dict_to_check, choice):\n",
    "    \"\"\"Checks if the input choice is a key in the provided dictionary\n",
    "        and returns 'valid' if true, 'invalid' if false\"\"\"\n",
    "\n",
    "    if choice in dict_to_check:\n",
    "        return \"valid\"\n",
    "    else:\n",
    "        return \"invalid\"\n",
    "\n",
    "def error_message(invalid_choice):\n",
    "    print(f\"Your input of '{invalid_choice}' is not a valid choice. Try again!\")\n",
    "\n",
    "def validate_int(user_input):\n",
    "    \"\"\"Checks if user input is an int or can be converted to an int. If true returns 'valid', if false returns 'invalid'\"\"\"\n",
    "\n",
    "    try:\n",
    "        int(float(user_input))\n",
    "        return \"valid\"\n",
    "    except ValueError:\n",
    "        return \"invalid\"\n",
    "\n",
    "def target_test_keys(keys): \n",
    "    \"\"\"Accepts a list of lists and returns a list of the first value from each list\"\"\"\n",
    "    \n",
    "    spec_keys = []\n",
    "    for i in range(len(keys)):\n",
    "        spec_keys.append(keys[i][0])\n",
    "    return spec_keys\n",
    "\n",
    "def get_target_columns(col_list, spec_keys):\n",
    "    target_columns = []\n",
    "    for i in range(len(col_list)):\n",
    "        if col_list[i] in spec_keys:\n",
    "            target_columns.append(col_list[i])\n",
    "    return target_columns\n",
    "\n",
    "def create_spec_dict(spec_arr):\n",
    "    new_dict = {}\n",
    "    new_list = []\n",
    "    for i in range(len(spec_arr)):\n",
    "        new_list = [spec_arr[i][1],spec_arr[i][2]]\n",
    "        new_dict[spec_arr[i][0]] = new_list\n",
    "    return new_dict\n",
    "\n",
    "def combine_limits(targ_col,prod_spec_dict):  # This is making an assumption that the lower limits are listed before upper limits in specifications file\n",
    "    prod_ll = []\n",
    "    prod_ul = []\n",
    "    prod_ll_dict = {}\n",
    "    prod_ul_dict = {}\n",
    "    for i in range(len(targ_col)):\n",
    "        key = targ_col[i]\n",
    "        prod_ll.append(prod_spec_dict[key][0])\n",
    "        prod_ul.append(prod_spec_dict[key][1])\n",
    "        \n",
    "    prod_ll_dict['lower_limits'] = prod_ll  # create dict of lower limits\n",
    "    prod_ul_dict['upper_limits'] = prod_ul  # create dict of upper limits\n",
    "    return {**prod_ll_dict, **prod_ul_dict}  # return dict of both dictionaries"
   ]
  },
  {
   "cell_type": "markdown",
   "metadata": {},
   "source": [
    "### Display file options to user"
   ]
  },
  {
   "cell_type": "code",
   "execution_count": 27,
   "metadata": {},
   "outputs": [
    {
     "name": "stdout",
     "output_type": "stream",
     "text": [
      "0 : Exit\n",
      "1 : BR0010P850\n",
      "2 : YL0010C229\n"
     ]
    }
   ],
   "source": [
    "product_options = sorted(list(('BR0010P850','YL0010C229')))\n",
    "user_options = list_files(product_options)  # returned dict of files in directory\n",
    "print_dict(user_options)"
   ]
  },
  {
   "cell_type": "markdown",
   "metadata": {},
   "source": [
    "### Allow user to choose a product displayed above"
   ]
  },
  {
   "cell_type": "code",
   "execution_count": 76,
   "metadata": {},
   "outputs": [
    {
     "name": "stdout",
     "output_type": "stream",
     "text": [
      "You selected BR0010P850\n"
     ]
    }
   ],
   "source": [
    "user_choice = input('Enter the number next to the file to open. (0 to exit): ')\n",
    "validate_choice = validate_int(user_choice) # confirm user input is an int or can be converted to an int \n",
    "if validate_choice == 'valid':\n",
    "    user_choice = int(float(user_choice))\n",
    "    validate_choice = check_dict(user_options, user_choice) # check to see if user input is a key in the dictionary\n",
    "while validate_choice == 'invalid':\n",
    "    error_message(user_choice)\n",
    "    user_choice = input('Enter the number next to the file to open. (0 to exit): ')\n",
    "    validate_choice = validate_int(user_choice)\n",
    "    if validate_choice == 'valid':\n",
    "        user_choice = int(float(user_choice))\n",
    "        validate_choice = check_dict(user_options, user_choice) # check to see if user input is a key in the dictionary\n",
    "\n",
    "selected_product = user_options[user_choice]\n",
    "if selected_product == 'Exit':\n",
    "    print(f'No product selected')\n",
    "else:\n",
    "    print(f'You selected {selected_product}')"
   ]
  },
  {
   "cell_type": "markdown",
   "metadata": {},
   "source": [
    "### Set file paths"
   ]
  },
  {
   "cell_type": "code",
   "execution_count": 119,
   "metadata": {},
   "outputs": [
    {
     "name": "stdout",
     "output_type": "stream",
     "text": [
      "data/BR0010P850_ingredients.xlsx\n",
      "data/specifications.xlsx\n"
     ]
    }
   ],
   "source": [
    "if selected_product == 'Exit':\n",
    "    print('No product was selected from the cell above. Please select a product in the cell above to continue.')\n",
    "else:\n",
    "    path = 'data/'\n",
    "    file_ext = \".xlsx\"\n",
    "    prod_ingredient_file = path + selected_product + \"_ingredients\" + file_ext\n",
    "    prod_color_results = path + selected_product + \"_color_results\" + file_ext\n",
    "    approved_ingredients = path + \"approved_ingredients\" + file_ext  # all products are in this file\n",
    "    formulas = path + \"formulas\" + file_ext  # all products are in this file\n",
    "    specifications = path + \"specifications\" + file_ext  # all product specs are in this file"
   ]
  },
  {
   "cell_type": "markdown",
   "metadata": {},
   "source": [
    "### Read files into pandas dataframe"
   ]
  },
  {
   "cell_type": "code",
   "execution_count": 131,
   "metadata": {},
   "outputs": [],
   "source": [
    "ingredient_df = pd.read_excel(prod_ingredient_file)  # ingriendients used for each batch of selected product\n",
    "color_results_df= pd.read_excel(prod_color_results)  # color results for each batch of selected product\n",
    "approv_ingred_df = pd.read_excel(approved_ingredients).sort_values(by=['Material','rm_code'])\n",
    "approv_ingred_df = approv_ingred_df[approv_ingred_df['Material']== selected_product + '-RMIX']  # filter df by selected product\n",
    "formula_df = pd.read_excel(formulas).sort_values(by=['Material','Ingredient'])\n",
    "formula_df = formula_df[formula_df['Material']== selected_product + '-RMIX']  # filter df by selected product\n",
    "product_specs_df = pd.read_excel(specifications)\n",
    "product_specs_df = product_specs_df[product_specs_df['product'] == selected_product].set_index('product')"
   ]
  },
  {
   "cell_type": "markdown",
   "metadata": {},
   "source": []
  },
  {
   "cell_type": "markdown",
   "metadata": {},
   "source": [
    "### Investigate ingredient df for null values and data types"
   ]
  },
  {
   "cell_type": "code",
   "execution_count": 93,
   "metadata": {},
   "outputs": [
    {
     "name": "stdout",
     "output_type": "stream",
     "text": [
      "<class 'pandas.core.frame.DataFrame'>\n",
      "RangeIndex: 230 entries, 0 to 229\n",
      "Data columns (total 11 columns):\n",
      " #   Column                      Non-Null Count  Dtype         \n",
      "---  ------                      --------------  -----         \n",
      " 0   Date Issued                 66 non-null     datetime64[ns]\n",
      " 1   Material                    230 non-null    object        \n",
      " 2   Order                       66 non-null     float64       \n",
      " 3   RMIX Batch                  230 non-null    int64         \n",
      " 4   Antimony Oxide              230 non-null    object        \n",
      " 5   Manganic Oxide              230 non-null    object        \n",
      " 6   Titanium Dioxide - Anatase  230 non-null    object        \n",
      " 7   Kiln                        66 non-null     float64       \n",
      " 8   Hearth                      0 non-null      float64       \n",
      " 9   Cycle                       0 non-null      float64       \n",
      " 10  Temp                        0 non-null      float64       \n",
      "dtypes: datetime64[ns](1), float64(5), int64(1), object(4)\n",
      "memory usage: 19.9+ KB\n",
      "None\n"
     ]
    }
   ],
   "source": [
    "print(ingredient_df.info())"
   ]
  },
  {
   "cell_type": "markdown",
   "metadata": {},
   "source": [
    "### Modify ingredient df as needed"
   ]
  },
  {
   "cell_type": "code",
   "execution_count": 99,
   "metadata": {},
   "outputs": [],
   "source": [
    "ingredient_df_mod =  ingredient_df.drop(columns=['Date Issued', 'Order',\n",
    "       'Kiln', 'Hearth', 'Cycle', 'Temp'])\n",
    "ingredient_df_mod['RMIX Batch'] = ingredient_df_mod['RMIX Batch'].astype(str)  # RMIX Batch looks like an int but should be treated like a string"
   ]
  },
  {
   "cell_type": "markdown",
   "metadata": {},
   "source": [
    "### Investigate color results df for null values and data types"
   ]
  },
  {
   "cell_type": "code",
   "execution_count": 102,
   "metadata": {},
   "outputs": [
    {
     "name": "stdout",
     "output_type": "stream",
     "text": [
      "<class 'pandas.core.frame.DataFrame'>\n",
      "RangeIndex: 221 entries, 0 to 220\n",
      "Data columns (total 10 columns):\n",
      " #   Column      Non-Null Count  Dtype  \n",
      "---  ------      --------------  -----  \n",
      " 0   RMIX Batch  221 non-null    int64  \n",
      " 1   Fin Batch   221 non-null    int64  \n",
      " 2   Equip       221 non-null    object \n",
      " 3   MDL         221 non-null    float64\n",
      " 4   MDA         221 non-null    float64\n",
      " 5   MDB         221 non-null    float64\n",
      " 6   TDL         221 non-null    float64\n",
      " 7   TDA         221 non-null    float64\n",
      " 8   TDB         221 non-null    float64\n",
      " 9   STR         221 non-null    int64  \n",
      "dtypes: float64(6), int64(3), object(1)\n",
      "memory usage: 17.4+ KB\n",
      "None\n"
     ]
    }
   ],
   "source": [
    "print(color_results_df.info())"
   ]
  },
  {
   "cell_type": "markdown",
   "metadata": {},
   "source": [
    "### Modify color results df as needed"
   ]
  },
  {
   "cell_type": "code",
   "execution_count": 103,
   "metadata": {},
   "outputs": [],
   "source": [
    "# color_results_df_mod =  color_results_df.drop(columns=[''])\n",
    "color_results_df_mod = color_results_df\n",
    "color_results_df_mod[['RMIX Batch','Fin Batch']] = color_results_df_mod[['RMIX Batch','Fin Batch']].astype(str)  # RMIX Batch & Fin Batch should be treated like a string"
   ]
  },
  {
   "cell_type": "markdown",
   "metadata": {},
   "source": [
    "### Merge ingredient df and color df"
   ]
  },
  {
   "cell_type": "code",
   "execution_count": 106,
   "metadata": {},
   "outputs": [],
   "source": [
    "df = ingredient_df_mod.merge(color_results_df_mod,how='left',left_on='RMIX Batch',right_on='RMIX Batch')"
   ]
  },
  {
   "cell_type": "code",
   "execution_count": 107,
   "metadata": {},
   "outputs": [
    {
     "name": "stdout",
     "output_type": "stream",
     "text": [
      "<class 'pandas.core.frame.DataFrame'>\n",
      "Int64Index: 231 entries, 0 to 230\n",
      "Data columns (total 14 columns):\n",
      " #   Column                      Non-Null Count  Dtype  \n",
      "---  ------                      --------------  -----  \n",
      " 0   Material                    231 non-null    object \n",
      " 1   RMIX Batch                  231 non-null    object \n",
      " 2   Antimony Oxide              231 non-null    object \n",
      " 3   Manganic Oxide              231 non-null    object \n",
      " 4   Titanium Dioxide - Anatase  231 non-null    object \n",
      " 5   Fin Batch                   203 non-null    object \n",
      " 6   Equip                       203 non-null    object \n",
      " 7   MDL                         203 non-null    float64\n",
      " 8   MDA                         203 non-null    float64\n",
      " 9   MDB                         203 non-null    float64\n",
      " 10  TDL                         203 non-null    float64\n",
      " 11  TDA                         203 non-null    float64\n",
      " 12  TDB                         203 non-null    float64\n",
      " 13  STR                         203 non-null    float64\n",
      "dtypes: float64(7), object(7)\n",
      "memory usage: 27.1+ KB\n"
     ]
    }
   ],
   "source": [
    "df.info()"
   ]
  },
  {
   "cell_type": "markdown",
   "metadata": {},
   "source": [
    "### Only interested in rows that have both ingredients and color values"
   ]
  },
  {
   "cell_type": "code",
   "execution_count": 108,
   "metadata": {},
   "outputs": [],
   "source": [
    "df = df.dropna()"
   ]
  },
  {
   "cell_type": "code",
   "execution_count": 122,
   "metadata": {},
   "outputs": [
    {
     "data": {
      "text/html": [
       "<div>\n",
       "<style scoped>\n",
       "    .dataframe tbody tr th:only-of-type {\n",
       "        vertical-align: middle;\n",
       "    }\n",
       "\n",
       "    .dataframe tbody tr th {\n",
       "        vertical-align: top;\n",
       "    }\n",
       "\n",
       "    .dataframe thead th {\n",
       "        text-align: right;\n",
       "    }\n",
       "</style>\n",
       "<table border=\"1\" class=\"dataframe\">\n",
       "  <thead>\n",
       "    <tr style=\"text-align: right;\">\n",
       "      <th></th>\n",
       "      <th>Material</th>\n",
       "      <th>RMIX Batch</th>\n",
       "      <th>Antimony Oxide</th>\n",
       "      <th>Manganic Oxide</th>\n",
       "      <th>Titanium Dioxide - Anatase</th>\n",
       "      <th>Fin Batch</th>\n",
       "      <th>Equip</th>\n",
       "      <th>MDL</th>\n",
       "      <th>MDA</th>\n",
       "      <th>MDB</th>\n",
       "      <th>TDL</th>\n",
       "      <th>TDA</th>\n",
       "      <th>TDB</th>\n",
       "      <th>STR</th>\n",
       "    </tr>\n",
       "  </thead>\n",
       "  <tbody>\n",
       "    <tr>\n",
       "      <th>1</th>\n",
       "      <td>BR0010P850-RMIX</td>\n",
       "      <td>23633</td>\n",
       "      <td>RM0615</td>\n",
       "      <td>RM4620</td>\n",
       "      <td>RM6729</td>\n",
       "      <td>23799</td>\n",
       "      <td>MX003</td>\n",
       "      <td>-1.0</td>\n",
       "      <td>-0.4</td>\n",
       "      <td>-0.9</td>\n",
       "      <td>-0.7</td>\n",
       "      <td>-0.4</td>\n",
       "      <td>-1.0</td>\n",
       "      <td>104.0</td>\n",
       "    </tr>\n",
       "    <tr>\n",
       "      <th>2</th>\n",
       "      <td>BR0010P850-RMIX</td>\n",
       "      <td>23633</td>\n",
       "      <td>RM0615</td>\n",
       "      <td>RM4620</td>\n",
       "      <td>RM6729</td>\n",
       "      <td>23799</td>\n",
       "      <td>MX003</td>\n",
       "      <td>-1.0</td>\n",
       "      <td>-0.4</td>\n",
       "      <td>-0.9</td>\n",
       "      <td>-0.7</td>\n",
       "      <td>-0.4</td>\n",
       "      <td>-1.0</td>\n",
       "      <td>104.0</td>\n",
       "    </tr>\n",
       "    <tr>\n",
       "      <th>6</th>\n",
       "      <td>BR0010P850-RMIX</td>\n",
       "      <td>54216</td>\n",
       "      <td>RM0615</td>\n",
       "      <td>RM4620</td>\n",
       "      <td>RM6718</td>\n",
       "      <td>54250</td>\n",
       "      <td>MX003</td>\n",
       "      <td>0.6</td>\n",
       "      <td>0.1</td>\n",
       "      <td>0.0</td>\n",
       "      <td>-0.2</td>\n",
       "      <td>0.2</td>\n",
       "      <td>0.3</td>\n",
       "      <td>102.0</td>\n",
       "    </tr>\n",
       "    <tr>\n",
       "      <th>7</th>\n",
       "      <td>BR0010P850-RMIX</td>\n",
       "      <td>54715</td>\n",
       "      <td>RM0615</td>\n",
       "      <td>RM4620</td>\n",
       "      <td>RM6718</td>\n",
       "      <td>54729</td>\n",
       "      <td>MX003</td>\n",
       "      <td>-1.4</td>\n",
       "      <td>-0.4</td>\n",
       "      <td>-0.7</td>\n",
       "      <td>-0.4</td>\n",
       "      <td>-0.4</td>\n",
       "      <td>-1.0</td>\n",
       "      <td>102.0</td>\n",
       "    </tr>\n",
       "    <tr>\n",
       "      <th>8</th>\n",
       "      <td>BR0010P850-RMIX</td>\n",
       "      <td>54716</td>\n",
       "      <td>RM0615</td>\n",
       "      <td>RM4620</td>\n",
       "      <td>RM6718</td>\n",
       "      <td>54730</td>\n",
       "      <td>MX003</td>\n",
       "      <td>-0.1</td>\n",
       "      <td>-0.2</td>\n",
       "      <td>-0.7</td>\n",
       "      <td>-0.2</td>\n",
       "      <td>-0.1</td>\n",
       "      <td>-0.6</td>\n",
       "      <td>101.0</td>\n",
       "    </tr>\n",
       "    <tr>\n",
       "      <th>...</th>\n",
       "      <td>...</td>\n",
       "      <td>...</td>\n",
       "      <td>...</td>\n",
       "      <td>...</td>\n",
       "      <td>...</td>\n",
       "      <td>...</td>\n",
       "      <td>...</td>\n",
       "      <td>...</td>\n",
       "      <td>...</td>\n",
       "      <td>...</td>\n",
       "      <td>...</td>\n",
       "      <td>...</td>\n",
       "      <td>...</td>\n",
       "      <td>...</td>\n",
       "    </tr>\n",
       "    <tr>\n",
       "      <th>215</th>\n",
       "      <td>BR0010P850-RMIX</td>\n",
       "      <td>40693</td>\n",
       "      <td>RM0615</td>\n",
       "      <td>RM4621</td>\n",
       "      <td>RM6713</td>\n",
       "      <td>40705</td>\n",
       "      <td>MX003</td>\n",
       "      <td>0.4</td>\n",
       "      <td>-0.1</td>\n",
       "      <td>-0.2</td>\n",
       "      <td>0.5</td>\n",
       "      <td>-0.2</td>\n",
       "      <td>-0.1</td>\n",
       "      <td>97.0</td>\n",
       "    </tr>\n",
       "    <tr>\n",
       "      <th>216</th>\n",
       "      <td>BR0010P850-RMIX</td>\n",
       "      <td>40694</td>\n",
       "      <td>RM0615</td>\n",
       "      <td>RM4621</td>\n",
       "      <td>RM6713</td>\n",
       "      <td>40706</td>\n",
       "      <td>MX003</td>\n",
       "      <td>0.1</td>\n",
       "      <td>-0.2</td>\n",
       "      <td>-0.2</td>\n",
       "      <td>0.6</td>\n",
       "      <td>-0.3</td>\n",
       "      <td>-0.6</td>\n",
       "      <td>95.0</td>\n",
       "    </tr>\n",
       "    <tr>\n",
       "      <th>217</th>\n",
       "      <td>BR0010P850-RMIX</td>\n",
       "      <td>41775</td>\n",
       "      <td>RM0615</td>\n",
       "      <td>RM4620</td>\n",
       "      <td>RM6713</td>\n",
       "      <td>41792</td>\n",
       "      <td>MX003</td>\n",
       "      <td>-0.3</td>\n",
       "      <td>0.0</td>\n",
       "      <td>-0.1</td>\n",
       "      <td>-0.1</td>\n",
       "      <td>-0.1</td>\n",
       "      <td>-0.2</td>\n",
       "      <td>100.0</td>\n",
       "    </tr>\n",
       "    <tr>\n",
       "      <th>219</th>\n",
       "      <td>BR0010P850-RMIX</td>\n",
       "      <td>41779</td>\n",
       "      <td>RM0615</td>\n",
       "      <td>RM4620</td>\n",
       "      <td>RM6713</td>\n",
       "      <td>41794</td>\n",
       "      <td>MX003</td>\n",
       "      <td>0.1</td>\n",
       "      <td>0.0</td>\n",
       "      <td>0.1</td>\n",
       "      <td>-0.1</td>\n",
       "      <td>0.0</td>\n",
       "      <td>0.2</td>\n",
       "      <td>101.0</td>\n",
       "    </tr>\n",
       "    <tr>\n",
       "      <th>220</th>\n",
       "      <td>BR0010P850-RMIX</td>\n",
       "      <td>41780</td>\n",
       "      <td>RM0615</td>\n",
       "      <td>RM4620</td>\n",
       "      <td>RM6713</td>\n",
       "      <td>41795</td>\n",
       "      <td>MX003</td>\n",
       "      <td>-0.2</td>\n",
       "      <td>0.0</td>\n",
       "      <td>0.1</td>\n",
       "      <td>0.0</td>\n",
       "      <td>-0.1</td>\n",
       "      <td>-0.1</td>\n",
       "      <td>100.0</td>\n",
       "    </tr>\n",
       "  </tbody>\n",
       "</table>\n",
       "<p>203 rows × 14 columns</p>\n",
       "</div>"
      ],
      "text/plain": [
       "            Material RMIX Batch Antimony Oxide Manganic Oxide  \\\n",
       "1    BR0010P850-RMIX      23633         RM0615         RM4620   \n",
       "2    BR0010P850-RMIX      23633         RM0615         RM4620   \n",
       "6    BR0010P850-RMIX      54216         RM0615         RM4620   \n",
       "7    BR0010P850-RMIX      54715         RM0615         RM4620   \n",
       "8    BR0010P850-RMIX      54716         RM0615         RM4620   \n",
       "..               ...        ...            ...            ...   \n",
       "215  BR0010P850-RMIX      40693         RM0615         RM4621   \n",
       "216  BR0010P850-RMIX      40694         RM0615         RM4621   \n",
       "217  BR0010P850-RMIX      41775         RM0615         RM4620   \n",
       "219  BR0010P850-RMIX      41779         RM0615         RM4620   \n",
       "220  BR0010P850-RMIX      41780         RM0615         RM4620   \n",
       "\n",
       "    Titanium Dioxide - Anatase Fin Batch  Equip  MDL  MDA  MDB  TDL  TDA  TDB  \\\n",
       "1                       RM6729     23799  MX003 -1.0 -0.4 -0.9 -0.7 -0.4 -1.0   \n",
       "2                       RM6729     23799  MX003 -1.0 -0.4 -0.9 -0.7 -0.4 -1.0   \n",
       "6                       RM6718     54250  MX003  0.6  0.1  0.0 -0.2  0.2  0.3   \n",
       "7                       RM6718     54729  MX003 -1.4 -0.4 -0.7 -0.4 -0.4 -1.0   \n",
       "8                       RM6718     54730  MX003 -0.1 -0.2 -0.7 -0.2 -0.1 -0.6   \n",
       "..                         ...       ...    ...  ...  ...  ...  ...  ...  ...   \n",
       "215                     RM6713     40705  MX003  0.4 -0.1 -0.2  0.5 -0.2 -0.1   \n",
       "216                     RM6713     40706  MX003  0.1 -0.2 -0.2  0.6 -0.3 -0.6   \n",
       "217                     RM6713     41792  MX003 -0.3  0.0 -0.1 -0.1 -0.1 -0.2   \n",
       "219                     RM6713     41794  MX003  0.1  0.0  0.1 -0.1  0.0  0.2   \n",
       "220                     RM6713     41795  MX003 -0.2  0.0  0.1  0.0 -0.1 -0.1   \n",
       "\n",
       "       STR  \n",
       "1    104.0  \n",
       "2    104.0  \n",
       "6    102.0  \n",
       "7    102.0  \n",
       "8    101.0  \n",
       "..     ...  \n",
       "215   97.0  \n",
       "216   95.0  \n",
       "217  100.0  \n",
       "219  101.0  \n",
       "220  100.0  \n",
       "\n",
       "[203 rows x 14 columns]"
      ]
     },
     "execution_count": 122,
     "metadata": {},
     "output_type": "execute_result"
    }
   ],
   "source": [
    "df"
   ]
  },
  {
   "cell_type": "markdown",
   "metadata": {},
   "source": [
    "### Arrange product specifications to compare against color results"
   ]
  },
  {
   "cell_type": "code",
   "execution_count": 152,
   "metadata": {},
   "outputs": [],
   "source": [
    "prod_specs_arr = product_specs_df.values  # create numpy array from product specifications df\n",
    "prod_target_keys = target_test_keys(prod_specs_arr)  # creates a list of product test keys that are in specifications file\n",
    "target_columns = get_target_columns(df.columns, prod_target_keys)  # creates a list of column name values from the selected file that match values in prod_target_keys list\n",
    "prod_spec_dict = create_spec_dict(prod_specs_arr)  # creates a dict of prod test keys {key = test key: value = [lower limit value, upper limit value]}\n",
    "prod_limits_dict = combine_limits(target_columns,prod_spec_dict) # create dict of all product limits {key = upper_limits or lower_limits: value = [all test key limits]}\n"
   ]
  },
  {
   "cell_type": "markdown",
   "metadata": {},
   "source": [
    "### Compare product color results versus product specifications"
   ]
  },
  {
   "cell_type": "code",
   "execution_count": 174,
   "metadata": {},
   "outputs": [
    {
     "name": "stdout",
     "output_type": "stream",
     "text": [
      "[[False False False ... False  True False]\n",
      " [False False False ... False  True False]\n",
      " [False False False ... False False False]\n",
      " ...\n",
      " [False False False ... False False False]\n",
      " [False False False ... False False False]\n",
      " [False False False ... False False False]]\n"
     ]
    }
   ],
   "source": [
    "test_values = df[target_columns].to_numpy(dtype=float)  # numpy array of color results that have an associated product specification\n",
    "lower_limits = np.array(prod_limits_dict['lower_limits'])\n",
    "upper_limits = np.array(prod_limits_dict['upper_limits'])\n",
    "is_below_ll = (np.less(test_values,lower_limits))  # array displays true if test value below lower spec limit\n",
    "is_above_ul = (np.greater(test_values,upper_limits))  # array displays true if test value above upper spec limit\n",
    "combined_arr = np.add(is_below_ll, is_above_ul)  # adds the two boolean arrays \n",
    "# create dataframe of the reverse boolean numpy array (using ~)\n",
    "combined_df_in_spec = ~pd.DataFrame(data=combined_arr[0:,0:],\n",
    "                        index=(df['Fin Batch'].values),  #  assuming \"Lot\" is a column name in selected product file\n",
    "                        columns=target_columns)\n",
    "\n",
    "print(combined_arr)"
   ]
  },
  {
   "cell_type": "code",
   "execution_count": 175,
   "metadata": {},
   "outputs": [],
   "source": [
    "combined_df_in_spec['is_in_spec'] = combined_df_in_spec.prod(1)  # create column in df to show if all test results for a batch are within all specifications\n",
    "batch_in_spec_df = combined_df_in_spec['is_in_spec']\n",
    "target_df = df.merge(batch_in_spec_df, how='left', left_on='Fin Batch', right_index=True)"
   ]
  },
  {
   "cell_type": "code",
   "execution_count": 176,
   "metadata": {},
   "outputs": [
    {
     "data": {
      "text/html": [
       "<div>\n",
       "<style scoped>\n",
       "    .dataframe tbody tr th:only-of-type {\n",
       "        vertical-align: middle;\n",
       "    }\n",
       "\n",
       "    .dataframe tbody tr th {\n",
       "        vertical-align: top;\n",
       "    }\n",
       "\n",
       "    .dataframe thead th {\n",
       "        text-align: right;\n",
       "    }\n",
       "</style>\n",
       "<table border=\"1\" class=\"dataframe\">\n",
       "  <thead>\n",
       "    <tr style=\"text-align: right;\">\n",
       "      <th></th>\n",
       "      <th>Material</th>\n",
       "      <th>RMIX Batch</th>\n",
       "      <th>Antimony Oxide</th>\n",
       "      <th>Manganic Oxide</th>\n",
       "      <th>Titanium Dioxide - Anatase</th>\n",
       "      <th>Fin Batch</th>\n",
       "      <th>Equip</th>\n",
       "      <th>MDL</th>\n",
       "      <th>MDA</th>\n",
       "      <th>MDB</th>\n",
       "      <th>TDL</th>\n",
       "      <th>TDA</th>\n",
       "      <th>TDB</th>\n",
       "      <th>STR</th>\n",
       "      <th>is_in_spec</th>\n",
       "    </tr>\n",
       "  </thead>\n",
       "  <tbody>\n",
       "    <tr>\n",
       "      <th>1</th>\n",
       "      <td>BR0010P850-RMIX</td>\n",
       "      <td>23633</td>\n",
       "      <td>RM0615</td>\n",
       "      <td>RM4620</td>\n",
       "      <td>RM6729</td>\n",
       "      <td>23799</td>\n",
       "      <td>MX003</td>\n",
       "      <td>-1.0</td>\n",
       "      <td>-0.4</td>\n",
       "      <td>-0.9</td>\n",
       "      <td>-0.7</td>\n",
       "      <td>-0.4</td>\n",
       "      <td>-1.0</td>\n",
       "      <td>104.0</td>\n",
       "      <td>0</td>\n",
       "    </tr>\n",
       "    <tr>\n",
       "      <th>1</th>\n",
       "      <td>BR0010P850-RMIX</td>\n",
       "      <td>23633</td>\n",
       "      <td>RM0615</td>\n",
       "      <td>RM4620</td>\n",
       "      <td>RM6729</td>\n",
       "      <td>23799</td>\n",
       "      <td>MX003</td>\n",
       "      <td>-1.0</td>\n",
       "      <td>-0.4</td>\n",
       "      <td>-0.9</td>\n",
       "      <td>-0.7</td>\n",
       "      <td>-0.4</td>\n",
       "      <td>-1.0</td>\n",
       "      <td>104.0</td>\n",
       "      <td>0</td>\n",
       "    </tr>\n",
       "    <tr>\n",
       "      <th>2</th>\n",
       "      <td>BR0010P850-RMIX</td>\n",
       "      <td>23633</td>\n",
       "      <td>RM0615</td>\n",
       "      <td>RM4620</td>\n",
       "      <td>RM6729</td>\n",
       "      <td>23799</td>\n",
       "      <td>MX003</td>\n",
       "      <td>-1.0</td>\n",
       "      <td>-0.4</td>\n",
       "      <td>-0.9</td>\n",
       "      <td>-0.7</td>\n",
       "      <td>-0.4</td>\n",
       "      <td>-1.0</td>\n",
       "      <td>104.0</td>\n",
       "      <td>0</td>\n",
       "    </tr>\n",
       "    <tr>\n",
       "      <th>2</th>\n",
       "      <td>BR0010P850-RMIX</td>\n",
       "      <td>23633</td>\n",
       "      <td>RM0615</td>\n",
       "      <td>RM4620</td>\n",
       "      <td>RM6729</td>\n",
       "      <td>23799</td>\n",
       "      <td>MX003</td>\n",
       "      <td>-1.0</td>\n",
       "      <td>-0.4</td>\n",
       "      <td>-0.9</td>\n",
       "      <td>-0.7</td>\n",
       "      <td>-0.4</td>\n",
       "      <td>-1.0</td>\n",
       "      <td>104.0</td>\n",
       "      <td>0</td>\n",
       "    </tr>\n",
       "    <tr>\n",
       "      <th>6</th>\n",
       "      <td>BR0010P850-RMIX</td>\n",
       "      <td>54216</td>\n",
       "      <td>RM0615</td>\n",
       "      <td>RM4620</td>\n",
       "      <td>RM6718</td>\n",
       "      <td>54250</td>\n",
       "      <td>MX003</td>\n",
       "      <td>0.6</td>\n",
       "      <td>0.1</td>\n",
       "      <td>0.0</td>\n",
       "      <td>-0.2</td>\n",
       "      <td>0.2</td>\n",
       "      <td>0.3</td>\n",
       "      <td>102.0</td>\n",
       "      <td>1</td>\n",
       "    </tr>\n",
       "    <tr>\n",
       "      <th>...</th>\n",
       "      <td>...</td>\n",
       "      <td>...</td>\n",
       "      <td>...</td>\n",
       "      <td>...</td>\n",
       "      <td>...</td>\n",
       "      <td>...</td>\n",
       "      <td>...</td>\n",
       "      <td>...</td>\n",
       "      <td>...</td>\n",
       "      <td>...</td>\n",
       "      <td>...</td>\n",
       "      <td>...</td>\n",
       "      <td>...</td>\n",
       "      <td>...</td>\n",
       "      <td>...</td>\n",
       "    </tr>\n",
       "    <tr>\n",
       "      <th>215</th>\n",
       "      <td>BR0010P850-RMIX</td>\n",
       "      <td>40693</td>\n",
       "      <td>RM0615</td>\n",
       "      <td>RM4621</td>\n",
       "      <td>RM6713</td>\n",
       "      <td>40705</td>\n",
       "      <td>MX003</td>\n",
       "      <td>0.4</td>\n",
       "      <td>-0.1</td>\n",
       "      <td>-0.2</td>\n",
       "      <td>0.5</td>\n",
       "      <td>-0.2</td>\n",
       "      <td>-0.1</td>\n",
       "      <td>97.0</td>\n",
       "      <td>1</td>\n",
       "    </tr>\n",
       "    <tr>\n",
       "      <th>216</th>\n",
       "      <td>BR0010P850-RMIX</td>\n",
       "      <td>40694</td>\n",
       "      <td>RM0615</td>\n",
       "      <td>RM4621</td>\n",
       "      <td>RM6713</td>\n",
       "      <td>40706</td>\n",
       "      <td>MX003</td>\n",
       "      <td>0.1</td>\n",
       "      <td>-0.2</td>\n",
       "      <td>-0.2</td>\n",
       "      <td>0.6</td>\n",
       "      <td>-0.3</td>\n",
       "      <td>-0.6</td>\n",
       "      <td>95.0</td>\n",
       "      <td>1</td>\n",
       "    </tr>\n",
       "    <tr>\n",
       "      <th>217</th>\n",
       "      <td>BR0010P850-RMIX</td>\n",
       "      <td>41775</td>\n",
       "      <td>RM0615</td>\n",
       "      <td>RM4620</td>\n",
       "      <td>RM6713</td>\n",
       "      <td>41792</td>\n",
       "      <td>MX003</td>\n",
       "      <td>-0.3</td>\n",
       "      <td>0.0</td>\n",
       "      <td>-0.1</td>\n",
       "      <td>-0.1</td>\n",
       "      <td>-0.1</td>\n",
       "      <td>-0.2</td>\n",
       "      <td>100.0</td>\n",
       "      <td>1</td>\n",
       "    </tr>\n",
       "    <tr>\n",
       "      <th>219</th>\n",
       "      <td>BR0010P850-RMIX</td>\n",
       "      <td>41779</td>\n",
       "      <td>RM0615</td>\n",
       "      <td>RM4620</td>\n",
       "      <td>RM6713</td>\n",
       "      <td>41794</td>\n",
       "      <td>MX003</td>\n",
       "      <td>0.1</td>\n",
       "      <td>0.0</td>\n",
       "      <td>0.1</td>\n",
       "      <td>-0.1</td>\n",
       "      <td>0.0</td>\n",
       "      <td>0.2</td>\n",
       "      <td>101.0</td>\n",
       "      <td>1</td>\n",
       "    </tr>\n",
       "    <tr>\n",
       "      <th>220</th>\n",
       "      <td>BR0010P850-RMIX</td>\n",
       "      <td>41780</td>\n",
       "      <td>RM0615</td>\n",
       "      <td>RM4620</td>\n",
       "      <td>RM6713</td>\n",
       "      <td>41795</td>\n",
       "      <td>MX003</td>\n",
       "      <td>-0.2</td>\n",
       "      <td>0.0</td>\n",
       "      <td>0.1</td>\n",
       "      <td>0.0</td>\n",
       "      <td>-0.1</td>\n",
       "      <td>-0.1</td>\n",
       "      <td>100.0</td>\n",
       "      <td>1</td>\n",
       "    </tr>\n",
       "  </tbody>\n",
       "</table>\n",
       "<p>207 rows × 15 columns</p>\n",
       "</div>"
      ],
      "text/plain": [
       "            Material RMIX Batch Antimony Oxide Manganic Oxide  \\\n",
       "1    BR0010P850-RMIX      23633         RM0615         RM4620   \n",
       "1    BR0010P850-RMIX      23633         RM0615         RM4620   \n",
       "2    BR0010P850-RMIX      23633         RM0615         RM4620   \n",
       "2    BR0010P850-RMIX      23633         RM0615         RM4620   \n",
       "6    BR0010P850-RMIX      54216         RM0615         RM4620   \n",
       "..               ...        ...            ...            ...   \n",
       "215  BR0010P850-RMIX      40693         RM0615         RM4621   \n",
       "216  BR0010P850-RMIX      40694         RM0615         RM4621   \n",
       "217  BR0010P850-RMIX      41775         RM0615         RM4620   \n",
       "219  BR0010P850-RMIX      41779         RM0615         RM4620   \n",
       "220  BR0010P850-RMIX      41780         RM0615         RM4620   \n",
       "\n",
       "    Titanium Dioxide - Anatase Fin Batch  Equip  MDL  MDA  MDB  TDL  TDA  TDB  \\\n",
       "1                       RM6729     23799  MX003 -1.0 -0.4 -0.9 -0.7 -0.4 -1.0   \n",
       "1                       RM6729     23799  MX003 -1.0 -0.4 -0.9 -0.7 -0.4 -1.0   \n",
       "2                       RM6729     23799  MX003 -1.0 -0.4 -0.9 -0.7 -0.4 -1.0   \n",
       "2                       RM6729     23799  MX003 -1.0 -0.4 -0.9 -0.7 -0.4 -1.0   \n",
       "6                       RM6718     54250  MX003  0.6  0.1  0.0 -0.2  0.2  0.3   \n",
       "..                         ...       ...    ...  ...  ...  ...  ...  ...  ...   \n",
       "215                     RM6713     40705  MX003  0.4 -0.1 -0.2  0.5 -0.2 -0.1   \n",
       "216                     RM6713     40706  MX003  0.1 -0.2 -0.2  0.6 -0.3 -0.6   \n",
       "217                     RM6713     41792  MX003 -0.3  0.0 -0.1 -0.1 -0.1 -0.2   \n",
       "219                     RM6713     41794  MX003  0.1  0.0  0.1 -0.1  0.0  0.2   \n",
       "220                     RM6713     41795  MX003 -0.2  0.0  0.1  0.0 -0.1 -0.1   \n",
       "\n",
       "       STR  is_in_spec  \n",
       "1    104.0           0  \n",
       "1    104.0           0  \n",
       "2    104.0           0  \n",
       "2    104.0           0  \n",
       "6    102.0           1  \n",
       "..     ...         ...  \n",
       "215   97.0           1  \n",
       "216   95.0           1  \n",
       "217  100.0           1  \n",
       "219  101.0           1  \n",
       "220  100.0           1  \n",
       "\n",
       "[207 rows x 15 columns]"
      ]
     },
     "execution_count": 176,
     "metadata": {},
     "output_type": "execute_result"
    }
   ],
   "source": [
    "target_df"
   ]
  },
  {
   "cell_type": "code",
   "execution_count": null,
   "metadata": {},
   "outputs": [],
   "source": [
    "total_df_rows = combined_df_in_spec.shape[0]\n",
    "total_in_spec_rows = combined_df_in_spec['is_in_spec'].sum()"
   ]
  },
  {
   "cell_type": "code",
   "execution_count": 20,
   "metadata": {},
   "outputs": [
    {
     "name": "stdout",
     "output_type": "stream",
     "text": [
      "[['RM0614', 'RM0615']]\n",
      "[['RM0614', 'RM0615'], ['RM4615', 'RM4620', 'RM4621', 'RM4623', 'RM4626']]\n",
      "[['RM0614', 'RM0615'], ['RM4615', 'RM4620', 'RM4621', 'RM4623', 'RM4626'], ['RM6707', 'RM6713', 'RM6714', 'RM6718', 'RM6729']]\n",
      "Antimony Oxide ['RM0614', 'RM0615']\n",
      "Manganic Oxide ['RM4615', 'RM4620', 'RM4621', 'RM4623', 'RM4626']\n",
      "Titanium Dioxide - Anatase ['RM6707', 'RM6713', 'RM6714', 'RM6718', 'RM6729']\n"
     ]
    }
   ],
   "source": [
    "\n",
    "product_ingredients = formula_df['Ingredient'].tolist()\n",
    "test_dict = {}\n",
    "test_list = []\n",
    "for i in range(len(product_ingredients)):\n",
    "   ingred = product_ingredients[i]\n",
    "   df_ingred = approv_ingred_df.loc[approv_ingred_df['ingredient_name'] == ingred]\n",
    "   ingred_list = df_ingred['rm_code'].to_list()\n",
    "   test_dict[ingred] = ingred_list\n",
    "   test_list.append(test_dict[ingred])\n",
    "   print(test_list)\n",
    "\n",
    "\n",
    "for key, value in test_dict.items():\n",
    "   print(key,value)\n",
    "#    approv_ingred_df.iloc\n",
    "\n",
    "# prod = os.path.splitext(selected_file)[0]  # separate filename from extension \n",
    "# df_prod_specs = df_all_specs.iloc[lambda x: x.index == prod]  # filter specifications by product name from the selected file"
   ]
  },
  {
   "cell_type": "code",
   "execution_count": 24,
   "metadata": {},
   "outputs": [
    {
     "name": "stdout",
     "output_type": "stream",
     "text": [
      "[('RM0614', 'RM4615', 'RM6707'), ('RM0614', 'RM4615', 'RM6713'), ('RM0614', 'RM4615', 'RM6714'), ('RM0614', 'RM4615', 'RM6718'), ('RM0614', 'RM4615', 'RM6729'), ('RM0614', 'RM4620', 'RM6707'), ('RM0614', 'RM4620', 'RM6713'), ('RM0614', 'RM4620', 'RM6714'), ('RM0614', 'RM4620', 'RM6718'), ('RM0614', 'RM4620', 'RM6729'), ('RM0614', 'RM4621', 'RM6707'), ('RM0614', 'RM4621', 'RM6713'), ('RM0614', 'RM4621', 'RM6714'), ('RM0614', 'RM4621', 'RM6718'), ('RM0614', 'RM4621', 'RM6729'), ('RM0614', 'RM4623', 'RM6707'), ('RM0614', 'RM4623', 'RM6713'), ('RM0614', 'RM4623', 'RM6714'), ('RM0614', 'RM4623', 'RM6718'), ('RM0614', 'RM4623', 'RM6729'), ('RM0614', 'RM4626', 'RM6707'), ('RM0614', 'RM4626', 'RM6713'), ('RM0614', 'RM4626', 'RM6714'), ('RM0614', 'RM4626', 'RM6718'), ('RM0614', 'RM4626', 'RM6729'), ('RM0615', 'RM4615', 'RM6707'), ('RM0615', 'RM4615', 'RM6713'), ('RM0615', 'RM4615', 'RM6714'), ('RM0615', 'RM4615', 'RM6718'), ('RM0615', 'RM4615', 'RM6729'), ('RM0615', 'RM4620', 'RM6707'), ('RM0615', 'RM4620', 'RM6713'), ('RM0615', 'RM4620', 'RM6714'), ('RM0615', 'RM4620', 'RM6718'), ('RM0615', 'RM4620', 'RM6729'), ('RM0615', 'RM4621', 'RM6707'), ('RM0615', 'RM4621', 'RM6713'), ('RM0615', 'RM4621', 'RM6714'), ('RM0615', 'RM4621', 'RM6718'), ('RM0615', 'RM4621', 'RM6729'), ('RM0615', 'RM4623', 'RM6707'), ('RM0615', 'RM4623', 'RM6713'), ('RM0615', 'RM4623', 'RM6714'), ('RM0615', 'RM4623', 'RM6718'), ('RM0615', 'RM4623', 'RM6729'), ('RM0615', 'RM4626', 'RM6707'), ('RM0615', 'RM4626', 'RM6713'), ('RM0615', 'RM4626', 'RM6714'), ('RM0615', 'RM4626', 'RM6718'), ('RM0615', 'RM4626', 'RM6729')]\n"
     ]
    }
   ],
   "source": [
    "all_combinations = list(it.product(*test_list))\n",
    "print(all_combinations)\n",
    "\n",
    "# aggregate batch ingredients and count ratio of grade 1?\n"
   ]
  },
  {
   "cell_type": "code",
   "execution_count": 25,
   "metadata": {},
   "outputs": [
    {
     "name": "stdout",
     "output_type": "stream",
     "text": [
      "['Antimony Oxide', 'Manganic Oxide', 'Titanium Dioxide - Anatase']\n",
      "\n"
     ]
    }
   ],
   "source": [
    "# approv_ingred_df = pd.read_excel('data/approved_ingredients.xlsx').set_index('ingredient_name')\n",
    "\n",
    "product_ingredients = formula_df['Ingredient'].tolist()\n",
    "print(product_ingredients)\n",
    "\n",
    "listA = ['a','b','c','d','e']\n",
    "listB = ['c','d','e']\n",
    "listC = ['f','g','h']\n",
    "\n",
    "\n",
    "listA = (list(it.combinations(['Antimony Oxide', 'Manganic Oxide', 'Titanium Dioxide - Anatase'],3)))\n",
    "listB = (list(it.combinations(['Antimony Oxide', 'Antimony Oxide', 'Titanium Dioxide - Anatase'],3)))\n",
    "listC = (list(it.combinations(['Antimony Oxide', 'Manganic Oxide', 'Manganic Oxide'],3)))\n",
    "\n",
    "print()\n",
    "\n",
    "# xy = (zip(listA,listB))\n",
    "# print(list(xy))\n",
    "# # new_list = \n",
    "\n",
    "# convert lists to sets and test equality before adding to a unique list\n",
    "# if set(product_ingredients) == for each comb in list(it.combinations(approved_list,3))"
   ]
  },
  {
   "cell_type": "code",
   "execution_count": null,
   "metadata": {},
   "outputs": [],
   "source": []
  },
  {
   "cell_type": "code",
   "execution_count": 4,
   "metadata": {},
   "outputs": [
    {
     "name": "stdout",
     "output_type": "stream",
     "text": [
      "<class 'pandas.core.frame.DataFrame'>\n",
      "RangeIndex: 230 entries, 0 to 229\n",
      "Data columns (total 11 columns):\n",
      " #   Column                      Non-Null Count  Dtype         \n",
      "---  ------                      --------------  -----         \n",
      " 0   Date Issued                 66 non-null     datetime64[ns]\n",
      " 1   Plan Month                  22 non-null     object        \n",
      " 2   Material                    230 non-null    object        \n",
      " 3   Order                       66 non-null     float64       \n",
      " 4   RMIX Batch                  230 non-null    int64         \n",
      " 5   Antimony Oxide              230 non-null    object        \n",
      " 6   Manganic Oxide              230 non-null    object        \n",
      " 7   Titanium Dioxide - Anatase  230 non-null    object        \n",
      " 8   Kiln                        66 non-null     float64       \n",
      " 9   Hearth                      0 non-null      float64       \n",
      " 10  Cycle                       0 non-null      float64       \n",
      "dtypes: datetime64[ns](1), float64(4), int64(1), object(5)\n",
      "memory usage: 19.9+ KB\n",
      "None\n"
     ]
    }
   ],
   "source": [
    "print(ingredient_df.info())\n"
   ]
  },
  {
   "cell_type": "code",
   "execution_count": 24,
   "metadata": {},
   "outputs": [],
   "source": [
    "# ingredient_df[['RMIX Batch', 'Kiln', 'Hearth','Cycle']] = ingredient_df[['RMIX Batch', 'Kiln', 'Hearth','Cycle']].astype(str)"
   ]
  },
  {
   "cell_type": "code",
   "execution_count": 25,
   "metadata": {},
   "outputs": [],
   "source": [
    "ing_df_wk['RMIX Batch'] = ing_df_wk['RMIX Batch'].astype(str)"
   ]
  },
  {
   "cell_type": "code",
   "execution_count": 26,
   "metadata": {},
   "outputs": [
    {
     "name": "stdout",
     "output_type": "stream",
     "text": [
      "<class 'pandas.core.frame.DataFrame'>\n",
      "RangeIndex: 230 entries, 0 to 229\n",
      "Data columns (total 5 columns):\n",
      " #   Column                      Non-Null Count  Dtype \n",
      "---  ------                      --------------  ----- \n",
      " 0   Material                    230 non-null    object\n",
      " 1   RMIX Batch                  230 non-null    object\n",
      " 2   Antimony Oxide              230 non-null    object\n",
      " 3   Manganic Oxide              230 non-null    object\n",
      " 4   Titanium Dioxide - Anatase  230 non-null    object\n",
      "dtypes: object(5)\n",
      "memory usage: 9.1+ KB\n"
     ]
    }
   ],
   "source": [
    "ing_df_wk.info()"
   ]
  },
  {
   "cell_type": "code",
   "execution_count": 27,
   "metadata": {},
   "outputs": [],
   "source": [
    "# print(color_results_df.info())"
   ]
  },
  {
   "cell_type": "code",
   "execution_count": 28,
   "metadata": {},
   "outputs": [
    {
     "name": "stdout",
     "output_type": "stream",
     "text": [
      "<class 'pandas.core.frame.DataFrame'>\n",
      "RangeIndex: 221 entries, 0 to 220\n",
      "Data columns (total 10 columns):\n",
      " #   Column      Non-Null Count  Dtype  \n",
      "---  ------      --------------  -----  \n",
      " 0   RMIX Batch  221 non-null    int64  \n",
      " 1   Fin Batch   221 non-null    int64  \n",
      " 2   Equip       221 non-null    object \n",
      " 3   MDL         221 non-null    float64\n",
      " 4   MDA         221 non-null    float64\n",
      " 5   MDB         221 non-null    float64\n",
      " 6   TDL         221 non-null    float64\n",
      " 7   TDA         221 non-null    float64\n",
      " 8   TDB         221 non-null    float64\n",
      " 9   STR         221 non-null    int64  \n",
      "dtypes: float64(6), int64(3), object(1)\n",
      "memory usage: 17.4+ KB\n",
      "None\n"
     ]
    }
   ],
   "source": [
    "print(color_results_df.info())"
   ]
  },
  {
   "cell_type": "code",
   "execution_count": 29,
   "metadata": {},
   "outputs": [],
   "source": [
    "color_results_df[['RMIX Batch', 'Fin Batch']] = color_results_df[['RMIX Batch', 'Fin Batch']].astype(str)"
   ]
  },
  {
   "cell_type": "code",
   "execution_count": 30,
   "metadata": {},
   "outputs": [],
   "source": [
    "color_df_wk = color_results_df"
   ]
  },
  {
   "cell_type": "code",
   "execution_count": 31,
   "metadata": {},
   "outputs": [
    {
     "data": {
      "text/html": [
       "<div>\n",
       "<style scoped>\n",
       "    .dataframe tbody tr th:only-of-type {\n",
       "        vertical-align: middle;\n",
       "    }\n",
       "\n",
       "    .dataframe tbody tr th {\n",
       "        vertical-align: top;\n",
       "    }\n",
       "\n",
       "    .dataframe thead th {\n",
       "        text-align: right;\n",
       "    }\n",
       "</style>\n",
       "<table border=\"1\" class=\"dataframe\">\n",
       "  <thead>\n",
       "    <tr style=\"text-align: right;\">\n",
       "      <th></th>\n",
       "      <th>RMIX Batch</th>\n",
       "      <th>Fin Batch</th>\n",
       "      <th>Equip</th>\n",
       "      <th>MDL</th>\n",
       "      <th>MDA</th>\n",
       "      <th>MDB</th>\n",
       "      <th>TDL</th>\n",
       "      <th>TDA</th>\n",
       "      <th>TDB</th>\n",
       "      <th>STR</th>\n",
       "    </tr>\n",
       "  </thead>\n",
       "  <tbody>\n",
       "    <tr>\n",
       "      <th>0</th>\n",
       "      <td>23633</td>\n",
       "      <td>23799</td>\n",
       "      <td>MX003</td>\n",
       "      <td>-1.0</td>\n",
       "      <td>-0.4</td>\n",
       "      <td>-0.9</td>\n",
       "      <td>-0.7</td>\n",
       "      <td>-0.4</td>\n",
       "      <td>-1.0</td>\n",
       "      <td>104</td>\n",
       "    </tr>\n",
       "    <tr>\n",
       "      <th>1</th>\n",
       "      <td>35324</td>\n",
       "      <td>35816</td>\n",
       "      <td>MX003</td>\n",
       "      <td>-0.2</td>\n",
       "      <td>-0.2</td>\n",
       "      <td>-0.5</td>\n",
       "      <td>-0.3</td>\n",
       "      <td>-0.4</td>\n",
       "      <td>-0.8</td>\n",
       "      <td>102</td>\n",
       "    </tr>\n",
       "    <tr>\n",
       "      <th>2</th>\n",
       "      <td>42908</td>\n",
       "      <td>53780</td>\n",
       "      <td>MX007</td>\n",
       "      <td>0.0</td>\n",
       "      <td>-0.1</td>\n",
       "      <td>-0.2</td>\n",
       "      <td>0.2</td>\n",
       "      <td>-0.1</td>\n",
       "      <td>-0.2</td>\n",
       "      <td>98</td>\n",
       "    </tr>\n",
       "    <tr>\n",
       "      <th>3</th>\n",
       "      <td>42909</td>\n",
       "      <td>53781</td>\n",
       "      <td>MX003</td>\n",
       "      <td>0.2</td>\n",
       "      <td>-0.2</td>\n",
       "      <td>-0.4</td>\n",
       "      <td>-0.1</td>\n",
       "      <td>-0.1</td>\n",
       "      <td>-0.3</td>\n",
       "      <td>100</td>\n",
       "    </tr>\n",
       "    <tr>\n",
       "      <th>4</th>\n",
       "      <td>42910</td>\n",
       "      <td>53782</td>\n",
       "      <td>MX003</td>\n",
       "      <td>0.4</td>\n",
       "      <td>0.0</td>\n",
       "      <td>-0.2</td>\n",
       "      <td>0.2</td>\n",
       "      <td>0.0</td>\n",
       "      <td>0.0</td>\n",
       "      <td>98</td>\n",
       "    </tr>\n",
       "    <tr>\n",
       "      <th>...</th>\n",
       "      <td>...</td>\n",
       "      <td>...</td>\n",
       "      <td>...</td>\n",
       "      <td>...</td>\n",
       "      <td>...</td>\n",
       "      <td>...</td>\n",
       "      <td>...</td>\n",
       "      <td>...</td>\n",
       "      <td>...</td>\n",
       "      <td>...</td>\n",
       "    </tr>\n",
       "    <tr>\n",
       "      <th>216</th>\n",
       "      <td>40693</td>\n",
       "      <td>40705</td>\n",
       "      <td>MX003</td>\n",
       "      <td>0.4</td>\n",
       "      <td>-0.1</td>\n",
       "      <td>-0.2</td>\n",
       "      <td>0.5</td>\n",
       "      <td>-0.2</td>\n",
       "      <td>-0.1</td>\n",
       "      <td>97</td>\n",
       "    </tr>\n",
       "    <tr>\n",
       "      <th>217</th>\n",
       "      <td>40694</td>\n",
       "      <td>40706</td>\n",
       "      <td>MX003</td>\n",
       "      <td>0.1</td>\n",
       "      <td>-0.2</td>\n",
       "      <td>-0.2</td>\n",
       "      <td>0.6</td>\n",
       "      <td>-0.3</td>\n",
       "      <td>-0.6</td>\n",
       "      <td>95</td>\n",
       "    </tr>\n",
       "    <tr>\n",
       "      <th>218</th>\n",
       "      <td>41775</td>\n",
       "      <td>41792</td>\n",
       "      <td>MX003</td>\n",
       "      <td>-0.3</td>\n",
       "      <td>0.0</td>\n",
       "      <td>-0.1</td>\n",
       "      <td>-0.1</td>\n",
       "      <td>-0.1</td>\n",
       "      <td>-0.2</td>\n",
       "      <td>100</td>\n",
       "    </tr>\n",
       "    <tr>\n",
       "      <th>219</th>\n",
       "      <td>41779</td>\n",
       "      <td>41794</td>\n",
       "      <td>MX003</td>\n",
       "      <td>0.1</td>\n",
       "      <td>0.0</td>\n",
       "      <td>0.1</td>\n",
       "      <td>-0.1</td>\n",
       "      <td>0.0</td>\n",
       "      <td>0.2</td>\n",
       "      <td>101</td>\n",
       "    </tr>\n",
       "    <tr>\n",
       "      <th>220</th>\n",
       "      <td>41780</td>\n",
       "      <td>41795</td>\n",
       "      <td>MX003</td>\n",
       "      <td>-0.2</td>\n",
       "      <td>0.0</td>\n",
       "      <td>0.1</td>\n",
       "      <td>0.0</td>\n",
       "      <td>-0.1</td>\n",
       "      <td>-0.1</td>\n",
       "      <td>100</td>\n",
       "    </tr>\n",
       "  </tbody>\n",
       "</table>\n",
       "<p>221 rows × 10 columns</p>\n",
       "</div>"
      ],
      "text/plain": [
       "    RMIX Batch Fin Batch  Equip  MDL  MDA  MDB  TDL  TDA  TDB  STR\n",
       "0        23633     23799  MX003 -1.0 -0.4 -0.9 -0.7 -0.4 -1.0  104\n",
       "1        35324     35816  MX003 -0.2 -0.2 -0.5 -0.3 -0.4 -0.8  102\n",
       "2        42908     53780  MX007  0.0 -0.1 -0.2  0.2 -0.1 -0.2   98\n",
       "3        42909     53781  MX003  0.2 -0.2 -0.4 -0.1 -0.1 -0.3  100\n",
       "4        42910     53782  MX003  0.4  0.0 -0.2  0.2  0.0  0.0   98\n",
       "..         ...       ...    ...  ...  ...  ...  ...  ...  ...  ...\n",
       "216      40693     40705  MX003  0.4 -0.1 -0.2  0.5 -0.2 -0.1   97\n",
       "217      40694     40706  MX003  0.1 -0.2 -0.2  0.6 -0.3 -0.6   95\n",
       "218      41775     41792  MX003 -0.3  0.0 -0.1 -0.1 -0.1 -0.2  100\n",
       "219      41779     41794  MX003  0.1  0.0  0.1 -0.1  0.0  0.2  101\n",
       "220      41780     41795  MX003 -0.2  0.0  0.1  0.0 -0.1 -0.1  100\n",
       "\n",
       "[221 rows x 10 columns]"
      ]
     },
     "execution_count": 31,
     "metadata": {},
     "output_type": "execute_result"
    }
   ],
   "source": [
    "color_df_wk"
   ]
  },
  {
   "cell_type": "code",
   "execution_count": 33,
   "metadata": {},
   "outputs": [
    {
     "name": "stdout",
     "output_type": "stream",
     "text": [
      "<class 'pandas.core.frame.DataFrame'>\n",
      "Int64Index: 231 entries, 0 to 230\n",
      "Data columns (total 14 columns):\n",
      " #   Column                      Non-Null Count  Dtype  \n",
      "---  ------                      --------------  -----  \n",
      " 0   Material                    231 non-null    object \n",
      " 1   RMIX Batch                  231 non-null    object \n",
      " 2   Antimony Oxide              231 non-null    object \n",
      " 3   Manganic Oxide              231 non-null    object \n",
      " 4   Titanium Dioxide - Anatase  231 non-null    object \n",
      " 5   Fin Batch                   203 non-null    object \n",
      " 6   Equip                       203 non-null    object \n",
      " 7   MDL                         203 non-null    float64\n",
      " 8   MDA                         203 non-null    float64\n",
      " 9   MDB                         203 non-null    float64\n",
      " 10  TDL                         203 non-null    float64\n",
      " 11  TDA                         203 non-null    float64\n",
      " 12  TDB                         203 non-null    float64\n",
      " 13  STR                         203 non-null    float64\n",
      "dtypes: float64(7), object(7)\n",
      "memory usage: 27.1+ KB\n"
     ]
    }
   ],
   "source": [
    "df.info()"
   ]
  },
  {
   "cell_type": "code",
   "execution_count": 35,
   "metadata": {},
   "outputs": [
    {
     "name": "stdout",
     "output_type": "stream",
     "text": [
      "<class 'pandas.core.frame.DataFrame'>\n",
      "Int64Index: 203 entries, 1 to 220\n",
      "Data columns (total 14 columns):\n",
      " #   Column                      Non-Null Count  Dtype  \n",
      "---  ------                      --------------  -----  \n",
      " 0   Material                    203 non-null    object \n",
      " 1   RMIX Batch                  203 non-null    object \n",
      " 2   Antimony Oxide              203 non-null    object \n",
      " 3   Manganic Oxide              203 non-null    object \n",
      " 4   Titanium Dioxide - Anatase  203 non-null    object \n",
      " 5   Fin Batch                   203 non-null    object \n",
      " 6   Equip                       203 non-null    object \n",
      " 7   MDL                         203 non-null    float64\n",
      " 8   MDA                         203 non-null    float64\n",
      " 9   MDB                         203 non-null    float64\n",
      " 10  TDL                         203 non-null    float64\n",
      " 11  TDA                         203 non-null    float64\n",
      " 12  TDB                         203 non-null    float64\n",
      " 13  STR                         203 non-null    float64\n",
      "dtypes: float64(7), object(7)\n",
      "memory usage: 23.8+ KB\n"
     ]
    }
   ],
   "source": [
    "df.info()"
   ]
  },
  {
   "cell_type": "code",
   "execution_count": 36,
   "metadata": {},
   "outputs": [
    {
     "data": {
      "text/plain": [
       "True"
      ]
     },
     "execution_count": 36,
     "metadata": {},
     "output_type": "execute_result"
    }
   ],
   "source": [
    "df['Material'].dtype == 'object'"
   ]
  },
  {
   "cell_type": "code",
   "execution_count": 37,
   "metadata": {},
   "outputs": [
    {
     "name": "stdout",
     "output_type": "stream",
     "text": [
      "Material (0 empty strings)\n",
      "RMIX Batch (0 empty strings)\n",
      "Antimony Oxide (0 empty strings)\n",
      "Manganic Oxide (0 empty strings)\n",
      "Titanium Dioxide - Anatase (0 empty strings)\n",
      "Fin Batch (0 empty strings)\n",
      "Equip (0 empty strings)\n",
      "MDL (0 empty strings)\n",
      "MDA (0 empty strings)\n",
      "MDB (0 empty strings)\n",
      "TDL (0 empty strings)\n",
      "TDA (0 empty strings)\n",
      "TDB (0 empty strings)\n",
      "STR (0 empty strings)\n"
     ]
    }
   ],
   "source": [
    "for column in df.columns:\n",
    "    print(f'{column} (' + str(df.loc[df[column]==''].count().iloc[0]) + ' empty strings)')"
   ]
  },
  {
   "cell_type": "code",
   "execution_count": 55,
   "metadata": {},
   "outputs": [
    {
     "name": "stdout",
     "output_type": "stream",
     "text": [
      "                        Material rm_code\n",
      "ingredient_name                         \n",
      "Antimony Oxide   BR0010P850-RMIX  RM0615\n",
      "Antimony Oxide   BR0010P850-RMIX  RM0614\n",
      "Manganic Oxide   BR0010P850-RMIX  RM4620\n",
      "Manganic Oxide   BR0010P850-RMIX  RM4621\n",
      "Manganic Oxide   BR0010P850-RMIX  RM4615\n"
     ]
    }
   ],
   "source": [
    "print(approv_ingred_df.head())"
   ]
  },
  {
   "cell_type": "code",
   "execution_count": 46,
   "metadata": {},
   "outputs": [
    {
     "name": "stdout",
     "output_type": "stream",
     "text": [
      "1 Antimony Oxide\n",
      "2 Manganic Oxide\n",
      "3 Titanium Dioxide - Anatase\n"
     ]
    }
   ],
   "source": [
    "for i in range(len(product_ingredients)):\n",
    "    print(f'{i +1} {product_ingredients[i]}')\n"
   ]
  },
  {
   "cell_type": "code",
   "execution_count": 68,
   "metadata": {},
   "outputs": [
    {
     "name": "stdout",
     "output_type": "stream",
     "text": [
      "           Material rm_code             ingredient_name\n",
      "1   BR0010P850-RMIX  RM0614              Antimony Oxide\n",
      "0   BR0010P850-RMIX  RM0615              Antimony Oxide\n",
      "4   BR0010P850-RMIX  RM4615              Manganic Oxide\n",
      "2   BR0010P850-RMIX  RM4620              Manganic Oxide\n",
      "3   BR0010P850-RMIX  RM4621              Manganic Oxide\n",
      "5   BR0010P850-RMIX  RM4623              Manganic Oxide\n",
      "6   BR0010P850-RMIX  RM4626              Manganic Oxide\n",
      "8   BR0010P850-RMIX  RM6707  Titanium Dioxide - Anatase\n",
      "10  BR0010P850-RMIX  RM6713  Titanium Dioxide - Anatase\n",
      "11  BR0010P850-RMIX  RM6714  Titanium Dioxide - Anatase\n",
      "9   BR0010P850-RMIX  RM6718  Titanium Dioxide - Anatase\n",
      "7   BR0010P850-RMIX  RM6729  Titanium Dioxide - Anatase\n"
     ]
    }
   ],
   "source": [
    "print(approv_ingred_df)"
   ]
  },
  {
   "cell_type": "code",
   "execution_count": 69,
   "metadata": {},
   "outputs": [
    {
     "data": {
      "text/html": [
       "<div>\n",
       "<style scoped>\n",
       "    .dataframe tbody tr th:only-of-type {\n",
       "        vertical-align: middle;\n",
       "    }\n",
       "\n",
       "    .dataframe tbody tr th {\n",
       "        vertical-align: top;\n",
       "    }\n",
       "\n",
       "    .dataframe thead th {\n",
       "        text-align: right;\n",
       "    }\n",
       "</style>\n",
       "<table border=\"1\" class=\"dataframe\">\n",
       "  <thead>\n",
       "    <tr style=\"text-align: right;\">\n",
       "      <th></th>\n",
       "      <th>Material</th>\n",
       "      <th>rm_code</th>\n",
       "      <th>ingredient_name</th>\n",
       "    </tr>\n",
       "  </thead>\n",
       "  <tbody>\n",
       "    <tr>\n",
       "      <th>8</th>\n",
       "      <td>BR0010P850-RMIX</td>\n",
       "      <td>RM6707</td>\n",
       "      <td>Titanium Dioxide - Anatase</td>\n",
       "    </tr>\n",
       "    <tr>\n",
       "      <th>10</th>\n",
       "      <td>BR0010P850-RMIX</td>\n",
       "      <td>RM6713</td>\n",
       "      <td>Titanium Dioxide - Anatase</td>\n",
       "    </tr>\n",
       "    <tr>\n",
       "      <th>11</th>\n",
       "      <td>BR0010P850-RMIX</td>\n",
       "      <td>RM6714</td>\n",
       "      <td>Titanium Dioxide - Anatase</td>\n",
       "    </tr>\n",
       "    <tr>\n",
       "      <th>9</th>\n",
       "      <td>BR0010P850-RMIX</td>\n",
       "      <td>RM6718</td>\n",
       "      <td>Titanium Dioxide - Anatase</td>\n",
       "    </tr>\n",
       "    <tr>\n",
       "      <th>7</th>\n",
       "      <td>BR0010P850-RMIX</td>\n",
       "      <td>RM6729</td>\n",
       "      <td>Titanium Dioxide - Anatase</td>\n",
       "    </tr>\n",
       "  </tbody>\n",
       "</table>\n",
       "</div>"
      ],
      "text/plain": [
       "           Material rm_code             ingredient_name\n",
       "8   BR0010P850-RMIX  RM6707  Titanium Dioxide - Anatase\n",
       "10  BR0010P850-RMIX  RM6713  Titanium Dioxide - Anatase\n",
       "11  BR0010P850-RMIX  RM6714  Titanium Dioxide - Anatase\n",
       "9   BR0010P850-RMIX  RM6718  Titanium Dioxide - Anatase\n",
       "7   BR0010P850-RMIX  RM6729  Titanium Dioxide - Anatase"
      ]
     },
     "execution_count": 69,
     "metadata": {},
     "output_type": "execute_result"
    }
   ],
   "source": [
    "approv_ingred_df[approv_ingred_df['ingredient_name'] == 'Titanium Dioxide - Anatase']\n",
    "# approv_ingred_df[(approv_ingred_df['ingredient_name'] == 'Titanium Dioxide - Anatase') & (approv_ingred_df['Material'] == 'BR0010P850-RMIX')]"
   ]
  },
  {
   "cell_type": "code",
   "execution_count": 70,
   "metadata": {},
   "outputs": [
    {
     "data": {
      "text/html": [
       "<div>\n",
       "<style scoped>\n",
       "    .dataframe tbody tr th:only-of-type {\n",
       "        vertical-align: middle;\n",
       "    }\n",
       "\n",
       "    .dataframe tbody tr th {\n",
       "        vertical-align: top;\n",
       "    }\n",
       "\n",
       "    .dataframe thead th {\n",
       "        text-align: right;\n",
       "    }\n",
       "</style>\n",
       "<table border=\"1\" class=\"dataframe\">\n",
       "  <thead>\n",
       "    <tr style=\"text-align: right;\">\n",
       "      <th></th>\n",
       "      <th>Material</th>\n",
       "      <th>rm_code</th>\n",
       "      <th>ingredient_name</th>\n",
       "    </tr>\n",
       "  </thead>\n",
       "  <tbody>\n",
       "    <tr>\n",
       "      <th>8</th>\n",
       "      <td>BR0010P850-RMIX</td>\n",
       "      <td>RM6707</td>\n",
       "      <td>Titanium Dioxide - Anatase</td>\n",
       "    </tr>\n",
       "    <tr>\n",
       "      <th>10</th>\n",
       "      <td>BR0010P850-RMIX</td>\n",
       "      <td>RM6713</td>\n",
       "      <td>Titanium Dioxide - Anatase</td>\n",
       "    </tr>\n",
       "    <tr>\n",
       "      <th>11</th>\n",
       "      <td>BR0010P850-RMIX</td>\n",
       "      <td>RM6714</td>\n",
       "      <td>Titanium Dioxide - Anatase</td>\n",
       "    </tr>\n",
       "    <tr>\n",
       "      <th>9</th>\n",
       "      <td>BR0010P850-RMIX</td>\n",
       "      <td>RM6718</td>\n",
       "      <td>Titanium Dioxide - Anatase</td>\n",
       "    </tr>\n",
       "    <tr>\n",
       "      <th>7</th>\n",
       "      <td>BR0010P850-RMIX</td>\n",
       "      <td>RM6729</td>\n",
       "      <td>Titanium Dioxide - Anatase</td>\n",
       "    </tr>\n",
       "  </tbody>\n",
       "</table>\n",
       "</div>"
      ],
      "text/plain": [
       "           Material rm_code             ingredient_name\n",
       "8   BR0010P850-RMIX  RM6707  Titanium Dioxide - Anatase\n",
       "10  BR0010P850-RMIX  RM6713  Titanium Dioxide - Anatase\n",
       "11  BR0010P850-RMIX  RM6714  Titanium Dioxide - Anatase\n",
       "9   BR0010P850-RMIX  RM6718  Titanium Dioxide - Anatase\n",
       "7   BR0010P850-RMIX  RM6729  Titanium Dioxide - Anatase"
      ]
     },
     "execution_count": 70,
     "metadata": {},
     "output_type": "execute_result"
    }
   ],
   "source": [
    "approv_ingred_df.query('ingredient_name == \"Titanium Dioxide - Anatase\"')"
   ]
  },
  {
   "cell_type": "code",
   "execution_count": 71,
   "metadata": {},
   "outputs": [
    {
     "data": {
      "text/html": [
       "<div>\n",
       "<style scoped>\n",
       "    .dataframe tbody tr th:only-of-type {\n",
       "        vertical-align: middle;\n",
       "    }\n",
       "\n",
       "    .dataframe tbody tr th {\n",
       "        vertical-align: top;\n",
       "    }\n",
       "\n",
       "    .dataframe thead th {\n",
       "        text-align: right;\n",
       "    }\n",
       "</style>\n",
       "<table border=\"1\" class=\"dataframe\">\n",
       "  <thead>\n",
       "    <tr style=\"text-align: right;\">\n",
       "      <th></th>\n",
       "      <th>Material</th>\n",
       "      <th>rm_code</th>\n",
       "      <th>ingredient_name</th>\n",
       "    </tr>\n",
       "  </thead>\n",
       "  <tbody>\n",
       "    <tr>\n",
       "      <th>8</th>\n",
       "      <td>BR0010P850-RMIX</td>\n",
       "      <td>RM6707</td>\n",
       "      <td>Titanium Dioxide - Anatase</td>\n",
       "    </tr>\n",
       "    <tr>\n",
       "      <th>10</th>\n",
       "      <td>BR0010P850-RMIX</td>\n",
       "      <td>RM6713</td>\n",
       "      <td>Titanium Dioxide - Anatase</td>\n",
       "    </tr>\n",
       "    <tr>\n",
       "      <th>11</th>\n",
       "      <td>BR0010P850-RMIX</td>\n",
       "      <td>RM6714</td>\n",
       "      <td>Titanium Dioxide - Anatase</td>\n",
       "    </tr>\n",
       "    <tr>\n",
       "      <th>9</th>\n",
       "      <td>BR0010P850-RMIX</td>\n",
       "      <td>RM6718</td>\n",
       "      <td>Titanium Dioxide - Anatase</td>\n",
       "    </tr>\n",
       "    <tr>\n",
       "      <th>7</th>\n",
       "      <td>BR0010P850-RMIX</td>\n",
       "      <td>RM6729</td>\n",
       "      <td>Titanium Dioxide - Anatase</td>\n",
       "    </tr>\n",
       "  </tbody>\n",
       "</table>\n",
       "</div>"
      ],
      "text/plain": [
       "           Material rm_code             ingredient_name\n",
       "8   BR0010P850-RMIX  RM6707  Titanium Dioxide - Anatase\n",
       "10  BR0010P850-RMIX  RM6713  Titanium Dioxide - Anatase\n",
       "11  BR0010P850-RMIX  RM6714  Titanium Dioxide - Anatase\n",
       "9   BR0010P850-RMIX  RM6718  Titanium Dioxide - Anatase\n",
       "7   BR0010P850-RMIX  RM6729  Titanium Dioxide - Anatase"
      ]
     },
     "execution_count": 71,
     "metadata": {},
     "output_type": "execute_result"
    }
   ],
   "source": [
    "approv_ingred_df.loc[approv_ingred_df['ingredient_name'] == 'Titanium Dioxide - Anatase']"
   ]
  },
  {
   "cell_type": "code",
   "execution_count": 72,
   "metadata": {},
   "outputs": [
    {
     "name": "stdout",
     "output_type": "stream",
     "text": [
      "          Material rm_code ingredient_name\n",
      "1  BR0010P850-RMIX  RM0614  Antimony Oxide\n",
      "0  BR0010P850-RMIX  RM0615  Antimony Oxide\n",
      "          Material rm_code ingredient_name\n",
      "4  BR0010P850-RMIX  RM4615  Manganic Oxide\n",
      "2  BR0010P850-RMIX  RM4620  Manganic Oxide\n",
      "3  BR0010P850-RMIX  RM4621  Manganic Oxide\n",
      "5  BR0010P850-RMIX  RM4623  Manganic Oxide\n",
      "6  BR0010P850-RMIX  RM4626  Manganic Oxide\n",
      "           Material rm_code             ingredient_name\n",
      "8   BR0010P850-RMIX  RM6707  Titanium Dioxide - Anatase\n",
      "10  BR0010P850-RMIX  RM6713  Titanium Dioxide - Anatase\n",
      "11  BR0010P850-RMIX  RM6714  Titanium Dioxide - Anatase\n",
      "9   BR0010P850-RMIX  RM6718  Titanium Dioxide - Anatase\n",
      "7   BR0010P850-RMIX  RM6729  Titanium Dioxide - Anatase\n"
     ]
    }
   ],
   "source": [
    "\n",
    "test_dict = {}\n",
    "for i in range(len(product_ingredients)):\n",
    "   ingred = product_ingredients[i]\n",
    "   ingred_num = f'ingred_{i+1}'\n",
    "   df_ingred = approv_ingred_df.loc[approv_ingred_df['ingredient_name'] == ingred]\n",
    "\n",
    "   print(df_ingred)\n",
    "\n",
    "#    approv_ingred_df.iloc\n",
    "\n",
    "# prod = os.path.splitext(selected_file)[0]  # separate filename from extension \n",
    "# df_prod_specs = df_all_specs.iloc[lambda x: x.index == prod]  # filter specifications by product name from the selected file"
   ]
  },
  {
   "cell_type": "code",
   "execution_count": null,
   "metadata": {},
   "outputs": [],
   "source": []
  },
  {
   "cell_type": "code",
   "execution_count": null,
   "metadata": {},
   "outputs": [],
   "source": []
  },
  {
   "cell_type": "code",
   "execution_count": null,
   "metadata": {},
   "outputs": [],
   "source": []
  },
  {
   "cell_type": "code",
   "execution_count": null,
   "metadata": {},
   "outputs": [],
   "source": []
  },
  {
   "cell_type": "code",
   "execution_count": null,
   "metadata": {},
   "outputs": [],
   "source": []
  },
  {
   "cell_type": "code",
   "execution_count": null,
   "metadata": {},
   "outputs": [],
   "source": []
  },
  {
   "cell_type": "code",
   "execution_count": null,
   "metadata": {},
   "outputs": [],
   "source": []
  },
  {
   "cell_type": "code",
   "execution_count": null,
   "metadata": {},
   "outputs": [],
   "source": []
  },
  {
   "cell_type": "code",
   "execution_count": null,
   "metadata": {},
   "outputs": [],
   "source": []
  }
 ],
 "metadata": {
  "kernelspec": {
   "display_name": "Python 3.10.4 ('TestProjectCK')",
   "language": "python",
   "name": "python3"
  },
  "language_info": {
   "codemirror_mode": {
    "name": "ipython",
    "version": 3
   },
   "file_extension": ".py",
   "mimetype": "text/x-python",
   "name": "python",
   "nbconvert_exporter": "python",
   "pygments_lexer": "ipython3",
   "version": "3.10.4"
  },
  "orig_nbformat": 4,
  "vscode": {
   "interpreter": {
    "hash": "827da1798961850d15bd0ba78ed3593ee5e07b854ca58ceb926ed68f9e586ea0"
   }
  }
 },
 "nbformat": 4,
 "nbformat_minor": 2
}
