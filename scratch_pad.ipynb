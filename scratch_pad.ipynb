{
 "cells": [
  {
   "cell_type": "code",
   "execution_count": 2,
   "metadata": {},
   "outputs": [],
   "source": [
    "import pandas as pd\n",
    "import os\n",
    "\n",
    "import itertools as it\n",
    "\n",
    "from sklearn.linear_model import LogisticRegression\n",
    "from sklearn import preprocessing\n",
    "from sklearn.model_selection import train_test_split\n",
    "from sklearn.metrics import confusion_matrix, classification_report,accuracy_score"
   ]
  },
  {
   "cell_type": "code",
   "execution_count": null,
   "metadata": {},
   "outputs": [],
   "source": []
  },
  {
   "cell_type": "markdown",
   "metadata": {},
   "source": [
    "### Read files into pandas dataframe"
   ]
  },
  {
   "cell_type": "code",
   "execution_count": 5,
   "metadata": {},
   "outputs": [],
   "source": [
    "ing_df_orig = pd.read_excel('data/BR0010P850_ingredients.xlsx')  # ingriendients used for each batch\n",
    "color_df_orig= pd.read_excel('data/BR0010P850_color_results.xlsx')  # color results for each batch\n",
    "approv_ingred_df = pd.read_excel('data/approved_ingredients.xlsx').sort_values(by=['rm_code'])\n",
    "formula_ingred_df = pd.read_excel('data/formulas.xlsx')"
   ]
  },
  {
   "cell_type": "code",
   "execution_count": null,
   "metadata": {},
   "outputs": [
    {
     "name": "stdout",
     "output_type": "stream",
     "text": [
      "['RM0614', 'RM0615', 'RM4615', 'RM4620', 'RM4621', 'RM4623', 'RM4626', 'RM6707', 'RM6713', 'RM6714', 'RM6718', 'RM6729']\n",
      "['Antimony Oxide', 'Manganic Oxide', 'Titanium Dioxide - Anatase']\n",
      "\n"
     ]
    }
   ],
   "source": [
    "# approv_ingred_df = pd.read_excel('data/approved_ingredients.xlsx').set_index('ingredient_name')\n",
    "\n",
    "product_ingredients = formula_ingred_df['Ingredient'].tolist()\n",
    "approved_list = approv_ingred_df['rm_code'].tolist()\n",
    "print(approved_list)\n",
    "print(product_ingredients)\n",
    "\n",
    "listA = ['a','b','c','d','e']\n",
    "listB = ['c','d','e']\n",
    "listC = ['f','g','h']\n",
    "\n",
    "\n",
    "listA = (list(it.combinations(['Antimony Oxide', 'Manganic Oxide', 'Titanium Dioxide - Anatase'],3)))\n",
    "listB = (list(it.combinations(['Antimony Oxide', 'Antimony Oxide', 'Titanium Dioxide - Anatase'],3)))\n",
    "listC = (list(it.combinations(['Antimony Oxide', 'Manganic Oxide', 'Manganic Oxide'],3)))\n",
    "\n",
    "print()\n",
    "\n",
    "# xy = (zip(listA,listB))\n",
    "# print(list(xy))\n",
    "# # new_list = \n",
    "\n",
    "# convert lists to sets and test equality before adding to a unique list\n",
    "# if set(product_ingredients) == for each comb in list(it.combinations(approved_list,3))"
   ]
  },
  {
   "cell_type": "code",
   "execution_count": null,
   "metadata": {},
   "outputs": [],
   "source": []
  },
  {
   "cell_type": "code",
   "execution_count": 4,
   "metadata": {},
   "outputs": [
    {
     "name": "stdout",
     "output_type": "stream",
     "text": [
      "<class 'pandas.core.frame.DataFrame'>\n",
      "RangeIndex: 230 entries, 0 to 229\n",
      "Data columns (total 11 columns):\n",
      " #   Column                      Non-Null Count  Dtype         \n",
      "---  ------                      --------------  -----         \n",
      " 0   Date Issued                 66 non-null     datetime64[ns]\n",
      " 1   Plan Month                  22 non-null     object        \n",
      " 2   Material                    230 non-null    object        \n",
      " 3   Order                       66 non-null     float64       \n",
      " 4   RMIX Batch                  230 non-null    int64         \n",
      " 5   Antimony Oxide              230 non-null    object        \n",
      " 6   Manganic Oxide              230 non-null    object        \n",
      " 7   Titanium Dioxide - Anatase  230 non-null    object        \n",
      " 8   Kiln                        66 non-null     float64       \n",
      " 9   Hearth                      0 non-null      float64       \n",
      " 10  Cycle                       0 non-null      float64       \n",
      "dtypes: datetime64[ns](1), float64(4), int64(1), object(5)\n",
      "memory usage: 19.9+ KB\n",
      "None\n"
     ]
    }
   ],
   "source": [
    "print(ing_df_orig.info())\n"
   ]
  },
  {
   "cell_type": "code",
   "execution_count": 23,
   "metadata": {},
   "outputs": [],
   "source": [
    "ing_df_wk =  ing_df_orig.drop(columns=['Date Issued', 'Plan Month', 'Order',\n",
    "       'Kiln', 'Hearth', 'Cycle'])\n",
    "\n",
    "# ing_df_wk.drop(['Date Issued', 'Plan Month', 'Order','Kiln', 'Hearth', 'Cycle'], axis=1, inplace=True)"
   ]
  },
  {
   "cell_type": "code",
   "execution_count": 24,
   "metadata": {},
   "outputs": [],
   "source": [
    "# ing_df_orig[['RMIX Batch', 'Kiln', 'Hearth','Cycle']] = ing_df_orig[['RMIX Batch', 'Kiln', 'Hearth','Cycle']].astype(str)"
   ]
  },
  {
   "cell_type": "code",
   "execution_count": 25,
   "metadata": {},
   "outputs": [],
   "source": [
    "ing_df_wk['RMIX Batch'] = ing_df_wk['RMIX Batch'].astype(str)"
   ]
  },
  {
   "cell_type": "code",
   "execution_count": 26,
   "metadata": {},
   "outputs": [
    {
     "name": "stdout",
     "output_type": "stream",
     "text": [
      "<class 'pandas.core.frame.DataFrame'>\n",
      "RangeIndex: 230 entries, 0 to 229\n",
      "Data columns (total 5 columns):\n",
      " #   Column                      Non-Null Count  Dtype \n",
      "---  ------                      --------------  ----- \n",
      " 0   Material                    230 non-null    object\n",
      " 1   RMIX Batch                  230 non-null    object\n",
      " 2   Antimony Oxide              230 non-null    object\n",
      " 3   Manganic Oxide              230 non-null    object\n",
      " 4   Titanium Dioxide - Anatase  230 non-null    object\n",
      "dtypes: object(5)\n",
      "memory usage: 9.1+ KB\n"
     ]
    }
   ],
   "source": [
    "ing_df_wk.info()"
   ]
  },
  {
   "cell_type": "code",
   "execution_count": 27,
   "metadata": {},
   "outputs": [],
   "source": [
    "# print(color_df_orig.info())"
   ]
  },
  {
   "cell_type": "code",
   "execution_count": 28,
   "metadata": {},
   "outputs": [
    {
     "name": "stdout",
     "output_type": "stream",
     "text": [
      "<class 'pandas.core.frame.DataFrame'>\n",
      "RangeIndex: 221 entries, 0 to 220\n",
      "Data columns (total 10 columns):\n",
      " #   Column      Non-Null Count  Dtype  \n",
      "---  ------      --------------  -----  \n",
      " 0   RMIX Batch  221 non-null    int64  \n",
      " 1   Fin Batch   221 non-null    int64  \n",
      " 2   Equip       221 non-null    object \n",
      " 3   MDL         221 non-null    float64\n",
      " 4   MDA         221 non-null    float64\n",
      " 5   MDB         221 non-null    float64\n",
      " 6   TDL         221 non-null    float64\n",
      " 7   TDA         221 non-null    float64\n",
      " 8   TDB         221 non-null    float64\n",
      " 9   STR         221 non-null    int64  \n",
      "dtypes: float64(6), int64(3), object(1)\n",
      "memory usage: 17.4+ KB\n",
      "None\n"
     ]
    }
   ],
   "source": [
    "print(color_df_orig.info())"
   ]
  },
  {
   "cell_type": "code",
   "execution_count": 29,
   "metadata": {},
   "outputs": [],
   "source": [
    "color_df_orig[['RMIX Batch', 'Fin Batch']] = color_df_orig[['RMIX Batch', 'Fin Batch']].astype(str)"
   ]
  },
  {
   "cell_type": "code",
   "execution_count": 30,
   "metadata": {},
   "outputs": [],
   "source": [
    "color_df_wk = color_df_orig"
   ]
  },
  {
   "cell_type": "code",
   "execution_count": 31,
   "metadata": {},
   "outputs": [
    {
     "data": {
      "text/html": [
       "<div>\n",
       "<style scoped>\n",
       "    .dataframe tbody tr th:only-of-type {\n",
       "        vertical-align: middle;\n",
       "    }\n",
       "\n",
       "    .dataframe tbody tr th {\n",
       "        vertical-align: top;\n",
       "    }\n",
       "\n",
       "    .dataframe thead th {\n",
       "        text-align: right;\n",
       "    }\n",
       "</style>\n",
       "<table border=\"1\" class=\"dataframe\">\n",
       "  <thead>\n",
       "    <tr style=\"text-align: right;\">\n",
       "      <th></th>\n",
       "      <th>RMIX Batch</th>\n",
       "      <th>Fin Batch</th>\n",
       "      <th>Equip</th>\n",
       "      <th>MDL</th>\n",
       "      <th>MDA</th>\n",
       "      <th>MDB</th>\n",
       "      <th>TDL</th>\n",
       "      <th>TDA</th>\n",
       "      <th>TDB</th>\n",
       "      <th>STR</th>\n",
       "    </tr>\n",
       "  </thead>\n",
       "  <tbody>\n",
       "    <tr>\n",
       "      <th>0</th>\n",
       "      <td>23633</td>\n",
       "      <td>23799</td>\n",
       "      <td>MX003</td>\n",
       "      <td>-1.0</td>\n",
       "      <td>-0.4</td>\n",
       "      <td>-0.9</td>\n",
       "      <td>-0.7</td>\n",
       "      <td>-0.4</td>\n",
       "      <td>-1.0</td>\n",
       "      <td>104</td>\n",
       "    </tr>\n",
       "    <tr>\n",
       "      <th>1</th>\n",
       "      <td>35324</td>\n",
       "      <td>35816</td>\n",
       "      <td>MX003</td>\n",
       "      <td>-0.2</td>\n",
       "      <td>-0.2</td>\n",
       "      <td>-0.5</td>\n",
       "      <td>-0.3</td>\n",
       "      <td>-0.4</td>\n",
       "      <td>-0.8</td>\n",
       "      <td>102</td>\n",
       "    </tr>\n",
       "    <tr>\n",
       "      <th>2</th>\n",
       "      <td>42908</td>\n",
       "      <td>53780</td>\n",
       "      <td>MX007</td>\n",
       "      <td>0.0</td>\n",
       "      <td>-0.1</td>\n",
       "      <td>-0.2</td>\n",
       "      <td>0.2</td>\n",
       "      <td>-0.1</td>\n",
       "      <td>-0.2</td>\n",
       "      <td>98</td>\n",
       "    </tr>\n",
       "    <tr>\n",
       "      <th>3</th>\n",
       "      <td>42909</td>\n",
       "      <td>53781</td>\n",
       "      <td>MX003</td>\n",
       "      <td>0.2</td>\n",
       "      <td>-0.2</td>\n",
       "      <td>-0.4</td>\n",
       "      <td>-0.1</td>\n",
       "      <td>-0.1</td>\n",
       "      <td>-0.3</td>\n",
       "      <td>100</td>\n",
       "    </tr>\n",
       "    <tr>\n",
       "      <th>4</th>\n",
       "      <td>42910</td>\n",
       "      <td>53782</td>\n",
       "      <td>MX003</td>\n",
       "      <td>0.4</td>\n",
       "      <td>0.0</td>\n",
       "      <td>-0.2</td>\n",
       "      <td>0.2</td>\n",
       "      <td>0.0</td>\n",
       "      <td>0.0</td>\n",
       "      <td>98</td>\n",
       "    </tr>\n",
       "    <tr>\n",
       "      <th>...</th>\n",
       "      <td>...</td>\n",
       "      <td>...</td>\n",
       "      <td>...</td>\n",
       "      <td>...</td>\n",
       "      <td>...</td>\n",
       "      <td>...</td>\n",
       "      <td>...</td>\n",
       "      <td>...</td>\n",
       "      <td>...</td>\n",
       "      <td>...</td>\n",
       "    </tr>\n",
       "    <tr>\n",
       "      <th>216</th>\n",
       "      <td>40693</td>\n",
       "      <td>40705</td>\n",
       "      <td>MX003</td>\n",
       "      <td>0.4</td>\n",
       "      <td>-0.1</td>\n",
       "      <td>-0.2</td>\n",
       "      <td>0.5</td>\n",
       "      <td>-0.2</td>\n",
       "      <td>-0.1</td>\n",
       "      <td>97</td>\n",
       "    </tr>\n",
       "    <tr>\n",
       "      <th>217</th>\n",
       "      <td>40694</td>\n",
       "      <td>40706</td>\n",
       "      <td>MX003</td>\n",
       "      <td>0.1</td>\n",
       "      <td>-0.2</td>\n",
       "      <td>-0.2</td>\n",
       "      <td>0.6</td>\n",
       "      <td>-0.3</td>\n",
       "      <td>-0.6</td>\n",
       "      <td>95</td>\n",
       "    </tr>\n",
       "    <tr>\n",
       "      <th>218</th>\n",
       "      <td>41775</td>\n",
       "      <td>41792</td>\n",
       "      <td>MX003</td>\n",
       "      <td>-0.3</td>\n",
       "      <td>0.0</td>\n",
       "      <td>-0.1</td>\n",
       "      <td>-0.1</td>\n",
       "      <td>-0.1</td>\n",
       "      <td>-0.2</td>\n",
       "      <td>100</td>\n",
       "    </tr>\n",
       "    <tr>\n",
       "      <th>219</th>\n",
       "      <td>41779</td>\n",
       "      <td>41794</td>\n",
       "      <td>MX003</td>\n",
       "      <td>0.1</td>\n",
       "      <td>0.0</td>\n",
       "      <td>0.1</td>\n",
       "      <td>-0.1</td>\n",
       "      <td>0.0</td>\n",
       "      <td>0.2</td>\n",
       "      <td>101</td>\n",
       "    </tr>\n",
       "    <tr>\n",
       "      <th>220</th>\n",
       "      <td>41780</td>\n",
       "      <td>41795</td>\n",
       "      <td>MX003</td>\n",
       "      <td>-0.2</td>\n",
       "      <td>0.0</td>\n",
       "      <td>0.1</td>\n",
       "      <td>0.0</td>\n",
       "      <td>-0.1</td>\n",
       "      <td>-0.1</td>\n",
       "      <td>100</td>\n",
       "    </tr>\n",
       "  </tbody>\n",
       "</table>\n",
       "<p>221 rows × 10 columns</p>\n",
       "</div>"
      ],
      "text/plain": [
       "    RMIX Batch Fin Batch  Equip  MDL  MDA  MDB  TDL  TDA  TDB  STR\n",
       "0        23633     23799  MX003 -1.0 -0.4 -0.9 -0.7 -0.4 -1.0  104\n",
       "1        35324     35816  MX003 -0.2 -0.2 -0.5 -0.3 -0.4 -0.8  102\n",
       "2        42908     53780  MX007  0.0 -0.1 -0.2  0.2 -0.1 -0.2   98\n",
       "3        42909     53781  MX003  0.2 -0.2 -0.4 -0.1 -0.1 -0.3  100\n",
       "4        42910     53782  MX003  0.4  0.0 -0.2  0.2  0.0  0.0   98\n",
       "..         ...       ...    ...  ...  ...  ...  ...  ...  ...  ...\n",
       "216      40693     40705  MX003  0.4 -0.1 -0.2  0.5 -0.2 -0.1   97\n",
       "217      40694     40706  MX003  0.1 -0.2 -0.2  0.6 -0.3 -0.6   95\n",
       "218      41775     41792  MX003 -0.3  0.0 -0.1 -0.1 -0.1 -0.2  100\n",
       "219      41779     41794  MX003  0.1  0.0  0.1 -0.1  0.0  0.2  101\n",
       "220      41780     41795  MX003 -0.2  0.0  0.1  0.0 -0.1 -0.1  100\n",
       "\n",
       "[221 rows x 10 columns]"
      ]
     },
     "execution_count": 31,
     "metadata": {},
     "output_type": "execute_result"
    }
   ],
   "source": [
    "color_df_wk"
   ]
  },
  {
   "cell_type": "code",
   "execution_count": 32,
   "metadata": {},
   "outputs": [],
   "source": [
    "df = ing_df_wk.merge(color_df_wk,how='left',left_on='RMIX Batch',right_on='RMIX Batch')"
   ]
  },
  {
   "cell_type": "code",
   "execution_count": 33,
   "metadata": {},
   "outputs": [
    {
     "name": "stdout",
     "output_type": "stream",
     "text": [
      "<class 'pandas.core.frame.DataFrame'>\n",
      "Int64Index: 231 entries, 0 to 230\n",
      "Data columns (total 14 columns):\n",
      " #   Column                      Non-Null Count  Dtype  \n",
      "---  ------                      --------------  -----  \n",
      " 0   Material                    231 non-null    object \n",
      " 1   RMIX Batch                  231 non-null    object \n",
      " 2   Antimony Oxide              231 non-null    object \n",
      " 3   Manganic Oxide              231 non-null    object \n",
      " 4   Titanium Dioxide - Anatase  231 non-null    object \n",
      " 5   Fin Batch                   203 non-null    object \n",
      " 6   Equip                       203 non-null    object \n",
      " 7   MDL                         203 non-null    float64\n",
      " 8   MDA                         203 non-null    float64\n",
      " 9   MDB                         203 non-null    float64\n",
      " 10  TDL                         203 non-null    float64\n",
      " 11  TDA                         203 non-null    float64\n",
      " 12  TDB                         203 non-null    float64\n",
      " 13  STR                         203 non-null    float64\n",
      "dtypes: float64(7), object(7)\n",
      "memory usage: 27.1+ KB\n"
     ]
    }
   ],
   "source": [
    "df.info()"
   ]
  },
  {
   "cell_type": "code",
   "execution_count": 34,
   "metadata": {},
   "outputs": [],
   "source": [
    "df = df.dropna()"
   ]
  },
  {
   "cell_type": "code",
   "execution_count": 35,
   "metadata": {},
   "outputs": [
    {
     "name": "stdout",
     "output_type": "stream",
     "text": [
      "<class 'pandas.core.frame.DataFrame'>\n",
      "Int64Index: 203 entries, 1 to 220\n",
      "Data columns (total 14 columns):\n",
      " #   Column                      Non-Null Count  Dtype  \n",
      "---  ------                      --------------  -----  \n",
      " 0   Material                    203 non-null    object \n",
      " 1   RMIX Batch                  203 non-null    object \n",
      " 2   Antimony Oxide              203 non-null    object \n",
      " 3   Manganic Oxide              203 non-null    object \n",
      " 4   Titanium Dioxide - Anatase  203 non-null    object \n",
      " 5   Fin Batch                   203 non-null    object \n",
      " 6   Equip                       203 non-null    object \n",
      " 7   MDL                         203 non-null    float64\n",
      " 8   MDA                         203 non-null    float64\n",
      " 9   MDB                         203 non-null    float64\n",
      " 10  TDL                         203 non-null    float64\n",
      " 11  TDA                         203 non-null    float64\n",
      " 12  TDB                         203 non-null    float64\n",
      " 13  STR                         203 non-null    float64\n",
      "dtypes: float64(7), object(7)\n",
      "memory usage: 23.8+ KB\n"
     ]
    }
   ],
   "source": [
    "df.info()"
   ]
  },
  {
   "cell_type": "code",
   "execution_count": 36,
   "metadata": {},
   "outputs": [
    {
     "data": {
      "text/plain": [
       "True"
      ]
     },
     "execution_count": 36,
     "metadata": {},
     "output_type": "execute_result"
    }
   ],
   "source": [
    "df['Material'].dtype == 'object'"
   ]
  },
  {
   "cell_type": "code",
   "execution_count": 37,
   "metadata": {},
   "outputs": [
    {
     "name": "stdout",
     "output_type": "stream",
     "text": [
      "Material (0 empty strings)\n",
      "RMIX Batch (0 empty strings)\n",
      "Antimony Oxide (0 empty strings)\n",
      "Manganic Oxide (0 empty strings)\n",
      "Titanium Dioxide - Anatase (0 empty strings)\n",
      "Fin Batch (0 empty strings)\n",
      "Equip (0 empty strings)\n",
      "MDL (0 empty strings)\n",
      "MDA (0 empty strings)\n",
      "MDB (0 empty strings)\n",
      "TDL (0 empty strings)\n",
      "TDA (0 empty strings)\n",
      "TDB (0 empty strings)\n",
      "STR (0 empty strings)\n"
     ]
    }
   ],
   "source": [
    "for column in df.columns:\n",
    "    print(f'{column} (' + str(df.loc[df[column]==''].count().iloc[0]) + ' empty strings)')"
   ]
  },
  {
   "cell_type": "code",
   "execution_count": 55,
   "metadata": {},
   "outputs": [
    {
     "name": "stdout",
     "output_type": "stream",
     "text": [
      "                        Material rm_code\n",
      "ingredient_name                         \n",
      "Antimony Oxide   BR0010P850-RMIX  RM0615\n",
      "Antimony Oxide   BR0010P850-RMIX  RM0614\n",
      "Manganic Oxide   BR0010P850-RMIX  RM4620\n",
      "Manganic Oxide   BR0010P850-RMIX  RM4621\n",
      "Manganic Oxide   BR0010P850-RMIX  RM4615\n"
     ]
    }
   ],
   "source": [
    "print(approv_ingred_df.head())"
   ]
  },
  {
   "cell_type": "code",
   "execution_count": 46,
   "metadata": {},
   "outputs": [
    {
     "name": "stdout",
     "output_type": "stream",
     "text": [
      "1 Antimony Oxide\n",
      "2 Manganic Oxide\n",
      "3 Titanium Dioxide - Anatase\n"
     ]
    }
   ],
   "source": [
    "for i in range(len(product_ingredients)):\n",
    "    print(f'{i +1} {product_ingredients[i]}')\n"
   ]
  },
  {
   "cell_type": "code",
   "execution_count": 68,
   "metadata": {},
   "outputs": [
    {
     "name": "stdout",
     "output_type": "stream",
     "text": [
      "           Material rm_code             ingredient_name\n",
      "1   BR0010P850-RMIX  RM0614              Antimony Oxide\n",
      "0   BR0010P850-RMIX  RM0615              Antimony Oxide\n",
      "4   BR0010P850-RMIX  RM4615              Manganic Oxide\n",
      "2   BR0010P850-RMIX  RM4620              Manganic Oxide\n",
      "3   BR0010P850-RMIX  RM4621              Manganic Oxide\n",
      "5   BR0010P850-RMIX  RM4623              Manganic Oxide\n",
      "6   BR0010P850-RMIX  RM4626              Manganic Oxide\n",
      "8   BR0010P850-RMIX  RM6707  Titanium Dioxide - Anatase\n",
      "10  BR0010P850-RMIX  RM6713  Titanium Dioxide - Anatase\n",
      "11  BR0010P850-RMIX  RM6714  Titanium Dioxide - Anatase\n",
      "9   BR0010P850-RMIX  RM6718  Titanium Dioxide - Anatase\n",
      "7   BR0010P850-RMIX  RM6729  Titanium Dioxide - Anatase\n"
     ]
    }
   ],
   "source": [
    "print(approv_ingred_df)"
   ]
  },
  {
   "cell_type": "code",
   "execution_count": 69,
   "metadata": {},
   "outputs": [
    {
     "data": {
      "text/html": [
       "<div>\n",
       "<style scoped>\n",
       "    .dataframe tbody tr th:only-of-type {\n",
       "        vertical-align: middle;\n",
       "    }\n",
       "\n",
       "    .dataframe tbody tr th {\n",
       "        vertical-align: top;\n",
       "    }\n",
       "\n",
       "    .dataframe thead th {\n",
       "        text-align: right;\n",
       "    }\n",
       "</style>\n",
       "<table border=\"1\" class=\"dataframe\">\n",
       "  <thead>\n",
       "    <tr style=\"text-align: right;\">\n",
       "      <th></th>\n",
       "      <th>Material</th>\n",
       "      <th>rm_code</th>\n",
       "      <th>ingredient_name</th>\n",
       "    </tr>\n",
       "  </thead>\n",
       "  <tbody>\n",
       "    <tr>\n",
       "      <th>8</th>\n",
       "      <td>BR0010P850-RMIX</td>\n",
       "      <td>RM6707</td>\n",
       "      <td>Titanium Dioxide - Anatase</td>\n",
       "    </tr>\n",
       "    <tr>\n",
       "      <th>10</th>\n",
       "      <td>BR0010P850-RMIX</td>\n",
       "      <td>RM6713</td>\n",
       "      <td>Titanium Dioxide - Anatase</td>\n",
       "    </tr>\n",
       "    <tr>\n",
       "      <th>11</th>\n",
       "      <td>BR0010P850-RMIX</td>\n",
       "      <td>RM6714</td>\n",
       "      <td>Titanium Dioxide - Anatase</td>\n",
       "    </tr>\n",
       "    <tr>\n",
       "      <th>9</th>\n",
       "      <td>BR0010P850-RMIX</td>\n",
       "      <td>RM6718</td>\n",
       "      <td>Titanium Dioxide - Anatase</td>\n",
       "    </tr>\n",
       "    <tr>\n",
       "      <th>7</th>\n",
       "      <td>BR0010P850-RMIX</td>\n",
       "      <td>RM6729</td>\n",
       "      <td>Titanium Dioxide - Anatase</td>\n",
       "    </tr>\n",
       "  </tbody>\n",
       "</table>\n",
       "</div>"
      ],
      "text/plain": [
       "           Material rm_code             ingredient_name\n",
       "8   BR0010P850-RMIX  RM6707  Titanium Dioxide - Anatase\n",
       "10  BR0010P850-RMIX  RM6713  Titanium Dioxide - Anatase\n",
       "11  BR0010P850-RMIX  RM6714  Titanium Dioxide - Anatase\n",
       "9   BR0010P850-RMIX  RM6718  Titanium Dioxide - Anatase\n",
       "7   BR0010P850-RMIX  RM6729  Titanium Dioxide - Anatase"
      ]
     },
     "execution_count": 69,
     "metadata": {},
     "output_type": "execute_result"
    }
   ],
   "source": [
    "approv_ingred_df[approv_ingred_df['ingredient_name'] == 'Titanium Dioxide - Anatase']\n",
    "# approv_ingred_df[(approv_ingred_df['ingredient_name'] == 'Titanium Dioxide - Anatase') & (approv_ingred_df['Material'] == 'BR0010P850-RMIX')]"
   ]
  },
  {
   "cell_type": "code",
   "execution_count": 70,
   "metadata": {},
   "outputs": [
    {
     "data": {
      "text/html": [
       "<div>\n",
       "<style scoped>\n",
       "    .dataframe tbody tr th:only-of-type {\n",
       "        vertical-align: middle;\n",
       "    }\n",
       "\n",
       "    .dataframe tbody tr th {\n",
       "        vertical-align: top;\n",
       "    }\n",
       "\n",
       "    .dataframe thead th {\n",
       "        text-align: right;\n",
       "    }\n",
       "</style>\n",
       "<table border=\"1\" class=\"dataframe\">\n",
       "  <thead>\n",
       "    <tr style=\"text-align: right;\">\n",
       "      <th></th>\n",
       "      <th>Material</th>\n",
       "      <th>rm_code</th>\n",
       "      <th>ingredient_name</th>\n",
       "    </tr>\n",
       "  </thead>\n",
       "  <tbody>\n",
       "    <tr>\n",
       "      <th>8</th>\n",
       "      <td>BR0010P850-RMIX</td>\n",
       "      <td>RM6707</td>\n",
       "      <td>Titanium Dioxide - Anatase</td>\n",
       "    </tr>\n",
       "    <tr>\n",
       "      <th>10</th>\n",
       "      <td>BR0010P850-RMIX</td>\n",
       "      <td>RM6713</td>\n",
       "      <td>Titanium Dioxide - Anatase</td>\n",
       "    </tr>\n",
       "    <tr>\n",
       "      <th>11</th>\n",
       "      <td>BR0010P850-RMIX</td>\n",
       "      <td>RM6714</td>\n",
       "      <td>Titanium Dioxide - Anatase</td>\n",
       "    </tr>\n",
       "    <tr>\n",
       "      <th>9</th>\n",
       "      <td>BR0010P850-RMIX</td>\n",
       "      <td>RM6718</td>\n",
       "      <td>Titanium Dioxide - Anatase</td>\n",
       "    </tr>\n",
       "    <tr>\n",
       "      <th>7</th>\n",
       "      <td>BR0010P850-RMIX</td>\n",
       "      <td>RM6729</td>\n",
       "      <td>Titanium Dioxide - Anatase</td>\n",
       "    </tr>\n",
       "  </tbody>\n",
       "</table>\n",
       "</div>"
      ],
      "text/plain": [
       "           Material rm_code             ingredient_name\n",
       "8   BR0010P850-RMIX  RM6707  Titanium Dioxide - Anatase\n",
       "10  BR0010P850-RMIX  RM6713  Titanium Dioxide - Anatase\n",
       "11  BR0010P850-RMIX  RM6714  Titanium Dioxide - Anatase\n",
       "9   BR0010P850-RMIX  RM6718  Titanium Dioxide - Anatase\n",
       "7   BR0010P850-RMIX  RM6729  Titanium Dioxide - Anatase"
      ]
     },
     "execution_count": 70,
     "metadata": {},
     "output_type": "execute_result"
    }
   ],
   "source": [
    "approv_ingred_df.query('ingredient_name == \"Titanium Dioxide - Anatase\"')"
   ]
  },
  {
   "cell_type": "code",
   "execution_count": 71,
   "metadata": {},
   "outputs": [
    {
     "data": {
      "text/html": [
       "<div>\n",
       "<style scoped>\n",
       "    .dataframe tbody tr th:only-of-type {\n",
       "        vertical-align: middle;\n",
       "    }\n",
       "\n",
       "    .dataframe tbody tr th {\n",
       "        vertical-align: top;\n",
       "    }\n",
       "\n",
       "    .dataframe thead th {\n",
       "        text-align: right;\n",
       "    }\n",
       "</style>\n",
       "<table border=\"1\" class=\"dataframe\">\n",
       "  <thead>\n",
       "    <tr style=\"text-align: right;\">\n",
       "      <th></th>\n",
       "      <th>Material</th>\n",
       "      <th>rm_code</th>\n",
       "      <th>ingredient_name</th>\n",
       "    </tr>\n",
       "  </thead>\n",
       "  <tbody>\n",
       "    <tr>\n",
       "      <th>8</th>\n",
       "      <td>BR0010P850-RMIX</td>\n",
       "      <td>RM6707</td>\n",
       "      <td>Titanium Dioxide - Anatase</td>\n",
       "    </tr>\n",
       "    <tr>\n",
       "      <th>10</th>\n",
       "      <td>BR0010P850-RMIX</td>\n",
       "      <td>RM6713</td>\n",
       "      <td>Titanium Dioxide - Anatase</td>\n",
       "    </tr>\n",
       "    <tr>\n",
       "      <th>11</th>\n",
       "      <td>BR0010P850-RMIX</td>\n",
       "      <td>RM6714</td>\n",
       "      <td>Titanium Dioxide - Anatase</td>\n",
       "    </tr>\n",
       "    <tr>\n",
       "      <th>9</th>\n",
       "      <td>BR0010P850-RMIX</td>\n",
       "      <td>RM6718</td>\n",
       "      <td>Titanium Dioxide - Anatase</td>\n",
       "    </tr>\n",
       "    <tr>\n",
       "      <th>7</th>\n",
       "      <td>BR0010P850-RMIX</td>\n",
       "      <td>RM6729</td>\n",
       "      <td>Titanium Dioxide - Anatase</td>\n",
       "    </tr>\n",
       "  </tbody>\n",
       "</table>\n",
       "</div>"
      ],
      "text/plain": [
       "           Material rm_code             ingredient_name\n",
       "8   BR0010P850-RMIX  RM6707  Titanium Dioxide - Anatase\n",
       "10  BR0010P850-RMIX  RM6713  Titanium Dioxide - Anatase\n",
       "11  BR0010P850-RMIX  RM6714  Titanium Dioxide - Anatase\n",
       "9   BR0010P850-RMIX  RM6718  Titanium Dioxide - Anatase\n",
       "7   BR0010P850-RMIX  RM6729  Titanium Dioxide - Anatase"
      ]
     },
     "execution_count": 71,
     "metadata": {},
     "output_type": "execute_result"
    }
   ],
   "source": [
    "approv_ingred_df.loc[approv_ingred_df['ingredient_name'] == 'Titanium Dioxide - Anatase']"
   ]
  },
  {
   "cell_type": "code",
   "execution_count": 72,
   "metadata": {},
   "outputs": [
    {
     "name": "stdout",
     "output_type": "stream",
     "text": [
      "          Material rm_code ingredient_name\n",
      "1  BR0010P850-RMIX  RM0614  Antimony Oxide\n",
      "0  BR0010P850-RMIX  RM0615  Antimony Oxide\n",
      "          Material rm_code ingredient_name\n",
      "4  BR0010P850-RMIX  RM4615  Manganic Oxide\n",
      "2  BR0010P850-RMIX  RM4620  Manganic Oxide\n",
      "3  BR0010P850-RMIX  RM4621  Manganic Oxide\n",
      "5  BR0010P850-RMIX  RM4623  Manganic Oxide\n",
      "6  BR0010P850-RMIX  RM4626  Manganic Oxide\n",
      "           Material rm_code             ingredient_name\n",
      "8   BR0010P850-RMIX  RM6707  Titanium Dioxide - Anatase\n",
      "10  BR0010P850-RMIX  RM6713  Titanium Dioxide - Anatase\n",
      "11  BR0010P850-RMIX  RM6714  Titanium Dioxide - Anatase\n",
      "9   BR0010P850-RMIX  RM6718  Titanium Dioxide - Anatase\n",
      "7   BR0010P850-RMIX  RM6729  Titanium Dioxide - Anatase\n"
     ]
    }
   ],
   "source": [
    "\n",
    "test_dict = {}\n",
    "for i in range(len(product_ingredients)):\n",
    "   ingred = product_ingredients[i]\n",
    "   ingred_num = f'ingred_{i+1}'\n",
    "   df_ingred = approv_ingred_df.loc[approv_ingred_df['ingredient_name'] == ingred]\n",
    "\n",
    "   print(df_ingred)\n",
    "\n",
    "#    approv_ingred_df.iloc\n",
    "\n",
    "# prod = os.path.splitext(selected_file)[0]  # separate filename from extension \n",
    "# df_prod_specs = df_all_specs.iloc[lambda x: x.index == prod]  # filter specifications by product name from the selected file"
   ]
  },
  {
   "cell_type": "code",
   "execution_count": null,
   "metadata": {},
   "outputs": [],
   "source": []
  },
  {
   "cell_type": "code",
   "execution_count": null,
   "metadata": {},
   "outputs": [],
   "source": []
  },
  {
   "cell_type": "code",
   "execution_count": null,
   "metadata": {},
   "outputs": [],
   "source": []
  },
  {
   "cell_type": "code",
   "execution_count": null,
   "metadata": {},
   "outputs": [],
   "source": []
  },
  {
   "cell_type": "code",
   "execution_count": null,
   "metadata": {},
   "outputs": [],
   "source": []
  },
  {
   "cell_type": "code",
   "execution_count": null,
   "metadata": {},
   "outputs": [],
   "source": []
  },
  {
   "cell_type": "code",
   "execution_count": null,
   "metadata": {},
   "outputs": [],
   "source": []
  },
  {
   "cell_type": "code",
   "execution_count": null,
   "metadata": {},
   "outputs": [],
   "source": []
  },
  {
   "cell_type": "code",
   "execution_count": null,
   "metadata": {},
   "outputs": [],
   "source": []
  }
 ],
 "metadata": {
  "kernelspec": {
   "display_name": "Python 3.10.4 ('TestProjectCK')",
   "language": "python",
   "name": "python3"
  },
  "language_info": {
   "codemirror_mode": {
    "name": "ipython",
    "version": 3
   },
   "file_extension": ".py",
   "mimetype": "text/x-python",
   "name": "python",
   "nbconvert_exporter": "python",
   "pygments_lexer": "ipython3",
   "version": "3.10.4"
  },
  "orig_nbformat": 4,
  "vscode": {
   "interpreter": {
    "hash": "827da1798961850d15bd0ba78ed3593ee5e07b854ca58ceb926ed68f9e586ea0"
   }
  }
 },
 "nbformat": 4,
 "nbformat_minor": 2
}
