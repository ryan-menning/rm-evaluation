{
 "cells": [
  {
   "cell_type": "code",
   "execution_count": null,
   "metadata": {},
   "outputs": [],
   "source": [
    "import pandas as pd\n",
    "import numpy as np\n",
    "import math\n",
    "\n",
    "import matplotlib.pyplot as plt\n",
    "import seaborn as sns\n",
    "sns.set_style('white')\n",
    "sns.set(style=\"whitegrid\", color_codes=True)"
   ]
  },
  {
   "cell_type": "code",
   "execution_count": null,
   "metadata": {},
   "outputs": [],
   "source": [
    "def list_files(files):\n",
    "    \"\"\"Accepts a list and returns a dictionary of each item in list with a numbered index (key) starting at 1\"\"\"\n",
    "\n",
    "    dir_list = {0:'Exit'}\n",
    "    file_count = 0\n",
    "    for file in files:\n",
    "        file_count +=1\n",
    "        dir_list[file_count] = file  # assign a number to each item in the list starting with 1 \n",
    "    return dir_list  # returns the dictionary of items in the list\n",
    "\n",
    "def print_dict(dict_items):\n",
    "    \"\"\"Prints the (key : value) pairing in a dictionary\"\"\"\n",
    "\n",
    "    for key, value in dict_items.items():\n",
    "        print(key, \":\", value)    \n",
    "\n",
    "def check_dict(dict_to_check, choice):\n",
    "    \"\"\"Checks if the input choice is a key in the provided dictionary\n",
    "        and returns 'valid' if true, 'invalid' if false\"\"\"\n",
    "\n",
    "    if choice in dict_to_check:\n",
    "        return \"valid\"\n",
    "    else:\n",
    "        return \"invalid\"\n",
    "\n",
    "def error_message(invalid_choice):\n",
    "    print(f\"Your input of '{invalid_choice}' is not a valid choice. Try again!\")\n",
    "\n",
    "def validate_int(user_input):\n",
    "    \"\"\"Checks if user input is an int or can be converted to an int. If true returns 'valid', if false returns 'invalid'\"\"\"\n",
    "\n",
    "    try:\n",
    "        int(float(user_input))\n",
    "        return \"valid\"\n",
    "    except ValueError:\n",
    "        return \"invalid\"\n",
    "\n",
    "def target_test_keys(keys): \n",
    "    \"\"\"Accepts a list of lists and returns a list of the first value from each list\"\"\"\n",
    "    \n",
    "    spec_keys = []\n",
    "    for i in range(len(keys)):\n",
    "        spec_keys.append(keys[i][0])\n",
    "    return spec_keys\n",
    "\n",
    "def get_target_columns(col_list, spec_keys):\n",
    "    target_columns = []\n",
    "    for i in range(len(col_list)):\n",
    "        if col_list[i] in spec_keys:\n",
    "            target_columns.append(col_list[i])\n",
    "    return target_columns\n",
    "\n",
    "def create_spec_dict(spec_arr):\n",
    "    new_dict = {}\n",
    "    new_list = []\n",
    "    for i in range(len(spec_arr)):\n",
    "        new_list = [spec_arr[i][1],spec_arr[i][2]]\n",
    "        new_dict[spec_arr[i][0]] = new_list\n",
    "    return new_dict\n",
    "\n",
    "def combine_limits(targ_col,prod_spec_dict):  # This is making an assumption that the lower limits are listed before upper limits in specifications file\n",
    "    prod_ll = []\n",
    "    prod_ul = []\n",
    "    prod_ll_dict = {}\n",
    "    prod_ul_dict = {}\n",
    "    for i in range(len(targ_col)):\n",
    "        key = targ_col[i]\n",
    "        prod_ll.append(prod_spec_dict[key][0])\n",
    "        prod_ul.append(prod_spec_dict[key][1])\n",
    "        \n",
    "    prod_ll_dict['lower_limits'] = prod_ll  # create dict of lower limits\n",
    "    prod_ul_dict['upper_limits'] = prod_ul  # create dict of upper limits\n",
    "    return {**prod_ll_dict, **prod_ul_dict}  # return dict of both dictionaries\n",
    "\n",
    "def round_up(n, decimals=0):\n",
    "    multiplier = 10 ** decimals\n",
    "    return math.ceil(n * multiplier) / multiplier\n",
    "\n",
    "def create_boxplot(df,test_key,spec_limits,prod_name):\n",
    "    low_spec = spec_limits[0]\n",
    "    upp_spec = spec_limits[1]\n",
    "\n",
    "    plt.figure(figsize=(10,6))\n",
    "    sns.boxplot(x=test_key, y='Raws Combined',data=df)\n",
    "    sns.stripplot(x=test_key, y='Raws Combined',data=df,color='black',alpha=0.35)\n",
    "    plt.axvline(low_spec,color='red',label=\"LSL\")\n",
    "    plt.axvline(upp_spec,color='red',label=\"USL\")\n",
    "    plt.title(prod_name + \" \" + test_key)\n",
    "    plt.xlabel(test_key)\n",
    "    plt.ylabel(\"Ingredient Combination\")"
   ]
  },
  {
   "cell_type": "markdown",
   "metadata": {},
   "source": [
    "### Display file options to user"
   ]
  },
  {
   "cell_type": "markdown",
   "metadata": {},
   "source": [
    "### Allow user to choose a product displayed above"
   ]
  },
  {
   "cell_type": "code",
   "execution_count": null,
   "metadata": {},
   "outputs": [],
   "source": [
    "user_choice = input('Enter the number next to the file to open. (0 to exit): ')\n",
    "validate_choice = validate_int(user_choice) # confirm user input is an int or can be converted to an int \n",
    "if validate_choice == 'valid':\n",
    "    user_choice = int(float(user_choice))\n",
    "    validate_choice = check_dict(user_options, user_choice) # check to see if user input is a key in the dictionary\n",
    "while validate_choice == 'invalid':\n",
    "    error_message(user_choice)\n",
    "    user_choice = input('Enter the number next to the file to open. (0 to exit): ')\n",
    "    validate_choice = validate_int(user_choice)\n",
    "    if validate_choice == 'valid':\n",
    "        user_choice = int(float(user_choice))\n",
    "        validate_choice = check_dict(user_options, user_choice) # check to see if user input is a key in the dictionary\n",
    "\n",
    "selected_product = user_options[user_choice]\n",
    "if selected_product == 'Exit':\n",
    "    print(f'No product selected')\n",
    "else:\n",
    "    print(f'You selected {selected_product}')"
   ]
  },
  {
   "cell_type": "markdown",
   "metadata": {},
   "source": [
    "### Set file paths"
   ]
  },
  {
   "cell_type": "code",
   "execution_count": null,
   "metadata": {},
   "outputs": [],
   "source": [
    "if selected_product == 'Exit':\n",
    "    print('No product was selected from the cell above. Please select a product in the cell above to continue.')\n",
    "else:\n",
    "    path = 'data/'\n",
    "    file_ext = \".csv\"\n",
    "    prod_ingredient_file = path + selected_product + \"_ingredients\" + file_ext\n",
    "    prod_color_results = path + selected_product + \"_color_results\" + file_ext\n",
    "    approved_ingredients = path + \"approved_ingredients\" + file_ext  # all products are in this file\n",
    "    formulas = path + \"formulas\" + file_ext  # all products are in this file\n",
    "    specifications = path + \"specifications\" + file_ext  # all product specs are in this file"
   ]
  },
  {
   "cell_type": "markdown",
   "metadata": {},
   "source": [
    "### Read files into pandas dataframe"
   ]
  },
  {
   "cell_type": "code",
   "execution_count": null,
   "metadata": {},
   "outputs": [],
   "source": [
    "ingredient_df = pd.read_csv(prod_ingredient_file)  # ingriendients used for each batch of selected product\n",
    "color_results_df= pd.read_csv(prod_color_results)  # color results for each batch of selected product\n",
    "approv_ingred_df = pd.read_csv(approved_ingredients).sort_values(by=['Material','rm_code'])\n",
    "approv_ingred_df = approv_ingred_df[approv_ingred_df['Material']== selected_product + '-RMIX']  # filter df by selected product\n",
    "formula_df = pd.read_csv(formulas).sort_values(by=['Material','Ingredient'])\n",
    "formula_df = formula_df[formula_df['Material']== selected_product + '-RMIX']  # filter df by selected product\n",
    "product_specs_df = pd.read_csv(specifications)\n",
    "product_specs_df = product_specs_df[product_specs_df['product'] == selected_product].set_index('product')"
   ]
  },
  {
   "cell_type": "markdown",
   "metadata": {},
   "source": [
    "### Investigate ingredient df for null values and data types"
   ]
  },
  {
   "cell_type": "code",
   "execution_count": null,
   "metadata": {},
   "outputs": [],
   "source": [
    "print(ingredient_df.info())"
   ]
  },
  {
   "cell_type": "markdown",
   "metadata": {},
   "source": [
    "### Modify ingredient df as needed"
   ]
  },
  {
   "cell_type": "code",
   "execution_count": null,
   "metadata": {},
   "outputs": [],
   "source": [
    "ingredient_df_mod =  ingredient_df.drop(columns=['Date Issued', 'Order',\n",
    "       'Kiln', 'Hearth', 'Cycle', 'Temp'])\n",
    "ingredient_df_mod['RMIX Batch'] = ingredient_df_mod['RMIX Batch'].astype(str)  # RMIX Batch looks like an int but should be treated like a string"
   ]
  },
  {
   "cell_type": "markdown",
   "metadata": {},
   "source": [
    "### Investigate color results df for null values and data types"
   ]
  },
  {
   "cell_type": "code",
   "execution_count": null,
   "metadata": {},
   "outputs": [],
   "source": [
    "print(color_results_df.info())"
   ]
  },
  {
   "cell_type": "markdown",
   "metadata": {},
   "source": [
    "### Modify color results df as needed"
   ]
  },
  {
   "cell_type": "code",
   "execution_count": null,
   "metadata": {},
   "outputs": [],
   "source": [
    "# color_results_df_mod =  color_results_df.drop(columns=[''])\n",
    "color_results_df_mod = color_results_df\n",
    "color_results_df_mod[['RMIX Batch','Fin Batch']] = color_results_df_mod[['RMIX Batch','Fin Batch']].astype(str)  # RMIX Batch & Fin Batch should be treated like a string"
   ]
  },
  {
   "cell_type": "markdown",
   "metadata": {},
   "source": [
    "### Merge ingredient df and color df"
   ]
  },
  {
   "cell_type": "code",
   "execution_count": null,
   "metadata": {},
   "outputs": [],
   "source": [
    "df = ingredient_df_mod.merge(color_results_df_mod,how='left',left_on='RMIX Batch',right_on='RMIX Batch')"
   ]
  },
  {
   "cell_type": "markdown",
   "metadata": {},
   "source": [
    "### Look for null values"
   ]
  },
  {
   "cell_type": "code",
   "execution_count": null,
   "metadata": {},
   "outputs": [],
   "source": [
    "df.info()"
   ]
  },
  {
   "cell_type": "markdown",
   "metadata": {},
   "source": [
    "### Look at null values visually"
   ]
  },
  {
   "cell_type": "code",
   "execution_count": null,
   "metadata": {},
   "outputs": [],
   "source": [
    "plt.figure(figsize=(8,5))\n",
    "sns.heatmap(df.isnull(),yticklabels=False,cbar=False,cmap=\"flare\")"
   ]
  },
  {
   "cell_type": "markdown",
   "metadata": {},
   "source": [
    "### Only interested in rows that have both ingredients and color values"
   ]
  },
  {
   "cell_type": "code",
   "execution_count": null,
   "metadata": {},
   "outputs": [],
   "source": [
    "df = df.dropna()"
   ]
  },
  {
   "cell_type": "markdown",
   "metadata": {},
   "source": [
    "### Arrange product specifications to compare against color results"
   ]
  },
  {
   "cell_type": "code",
   "execution_count": null,
   "metadata": {},
   "outputs": [],
   "source": [
    "prod_specs_arr = product_specs_df.values  # create numpy array from product specifications df\n",
    "prod_target_keys = target_test_keys(prod_specs_arr)  # creates a list of product test keys that are in specifications file\n",
    "target_columns = get_target_columns(df.columns, prod_target_keys)  # creates a list of column name values from the selected file that match values in prod_target_keys list\n",
    "prod_spec_dict = create_spec_dict(prod_specs_arr)  # creates a dict of prod test keys {key = test key: value = [lower limit value, upper limit value]}\n",
    "prod_limits_dict = combine_limits(target_columns,prod_spec_dict) # create dict of all product limits {key = upper_limits or lower_limits: value = [all test key limits]}"
   ]
  },
  {
   "cell_type": "markdown",
   "metadata": {},
   "source": [
    "### Compare product color results versus product specifications"
   ]
  },
  {
   "cell_type": "code",
   "execution_count": null,
   "metadata": {},
   "outputs": [],
   "source": [
    "test_values = df[target_columns].to_numpy(dtype=float)  # numpy array of color results that have an associated product specification\n",
    "lower_limits = np.array(prod_limits_dict['lower_limits'])\n",
    "upper_limits = np.array(prod_limits_dict['upper_limits'])\n",
    "is_below_ll = (np.less(test_values,lower_limits))  # array displays true if test value below lower spec limit\n",
    "is_above_ul = (np.greater(test_values,upper_limits))  # array displays true if test value above upper spec limit\n",
    "combined_arr = np.add(is_below_ll, is_above_ul)  # adds the two boolean arrays \n",
    "# create dataframe of the reverse boolean numpy array (using ~)\n",
    "combined_df_in_spec = ~pd.DataFrame(data=combined_arr[0:,0:],\n",
    "                        index=(df['Fin Batch'].values),  #  assuming \"Fin Batch\" is a column name in selected product file\n",
    "                        columns=target_columns)"
   ]
  },
  {
   "cell_type": "markdown",
   "metadata": {},
   "source": [
    "### Merge 'in spec' column into combined df. This will be the working df."
   ]
  },
  {
   "cell_type": "code",
   "execution_count": null,
   "metadata": {},
   "outputs": [],
   "source": [
    "combined_df_in_spec['is_in_spec'] = combined_df_in_spec.prod(1)  # create column in df to show if all test results for a batch are within all specifications\n",
    "batch_in_spec_df = combined_df_in_spec['is_in_spec']\n",
    "target_df = df.merge(batch_in_spec_df, how='left', left_on='Fin Batch', right_index=True)\n",
    "# add column combining raws for future analysis\n",
    "product_ingredients = formula_df['Ingredient'].tolist()\n",
    "target_df['Raws Combined'] = target_df[product_ingredients].agg(','.join,axis=1)"
   ]
  },
  {
   "cell_type": "markdown",
   "metadata": {},
   "source": [
    "### What raw combinations are being used the most?"
   ]
  },
  {
   "cell_type": "code",
   "execution_count": null,
   "metadata": {},
   "outputs": [],
   "source": [
    "\n",
    "f, ax = plt.subplots(figsize=(10, 6))\n",
    "sns.countplot(y='Raws Combined',data=target_df,order=target_df['Raws Combined'].value_counts().index).set_title(selected_product + ' Raw Combinations used')\n",
    "ax.set(xlabel='Total Batch Count',ylabel=\"\")"
   ]
  },
  {
   "cell_type": "markdown",
   "metadata": {},
   "source": [
    "### How may batches were with specifications for each batch?\n"
   ]
  },
  {
   "cell_type": "code",
   "execution_count": null,
   "metadata": {},
   "outputs": [],
   "source": [
    "test_df1 = target_df[['Raws Combined','is_in_spec']].groupby('Raws Combined').agg(['count', 'sum']).reset_index()\n",
    "test_df1['tot_count'] = test_df1['is_in_spec']['count']\n",
    "test_df1['num_in_spec'] = test_df1['is_in_spec']['sum']\n",
    "test_df1['per_in_spec'] = round((test_df1['num_in_spec']/test_df1['tot_count']*100),1)\n",
    "test_df2 = test_df1[['Raws Combined','tot_count','num_in_spec','per_in_spec']].copy().sort_values(by='tot_count',ascending=False)\n",
    "\n",
    "f, ax = plt.subplots(figsize=(10, 6))\n",
    "sns.set_color_codes(\"pastel\")\n",
    "sns.barplot(y='Raws Combined',x='tot_count', data=test_df2,color='b')\n",
    "\n",
    "sns.set_color_codes(\"muted\")\n",
    "sns.barplot(y='Raws Combined',x='num_in_spec', data=test_df2, color='b').set_title(selected_product)\n",
    "x_axis_scale = int(round_up(test_df2['tot_count'].max(),-1))\n",
    "ax.set(xlim=(0, x_axis_scale), ylabel=\"\",\n",
    "       xlabel= \"In Spec Batches in total batches\")"
   ]
  },
  {
   "cell_type": "markdown",
   "metadata": {},
   "source": [
    "### Is there any difference in color values based on raw combination?"
   ]
  },
  {
   "cell_type": "markdown",
   "metadata": {},
   "source": [
    "##### MDL Boxplot - Differences in the masstone lightness between ingredient combinations"
   ]
  },
  {
   "cell_type": "code",
   "execution_count": null,
   "metadata": {},
   "outputs": [],
   "source": [
    "test_key = 'MDL'\n",
    "# print(target_df.groupby(['Raws Combined'])[test_key].median())  # not sorted in same order displayed\n",
    "test_key_limits = prod_spec_dict[test_key]\n",
    "create_boxplot(target_df,test_key,test_key_limits,selected_product)"
   ]
  },
  {
   "cell_type": "markdown",
   "metadata": {},
   "source": [
    "##### MDA Boxplot - Differences in the masstone red/green value between ingredient combinations"
   ]
  },
  {
   "cell_type": "code",
   "execution_count": null,
   "metadata": {},
   "outputs": [],
   "source": [
    "test_key = 'MDA'\n",
    "test_key_limits = prod_spec_dict[test_key]\n",
    "create_boxplot(target_df,test_key,test_key_limits,selected_product)"
   ]
  },
  {
   "cell_type": "markdown",
   "metadata": {},
   "source": [
    "##### MDB Boxplot - Differences in the masstone blue/yellow value between ingredient combinations"
   ]
  },
  {
   "cell_type": "code",
   "execution_count": null,
   "metadata": {},
   "outputs": [],
   "source": [
    "test_key = 'MDB'\n",
    "test_key_limits = prod_spec_dict[test_key]\n",
    "create_boxplot(target_df,test_key,test_key_limits,selected_product)"
   ]
  },
  {
   "cell_type": "markdown",
   "metadata": {},
   "source": [
    "##### TDL Boxplot - Differences in the tint lightness between ingredient combinations"
   ]
  },
  {
   "cell_type": "code",
   "execution_count": null,
   "metadata": {},
   "outputs": [],
   "source": [
    "test_key = 'TDL'\n",
    "test_key_limits = prod_spec_dict[test_key]\n",
    "create_boxplot(target_df,test_key,test_key_limits,selected_product)"
   ]
  },
  {
   "cell_type": "markdown",
   "metadata": {},
   "source": [
    "##### TDA Boxplot - Differences in the tint red/green value between ingredient combinations"
   ]
  },
  {
   "cell_type": "code",
   "execution_count": null,
   "metadata": {},
   "outputs": [],
   "source": [
    "test_key = 'TDA'\n",
    "test_key_limits = prod_spec_dict[test_key]\n",
    "create_boxplot(target_df,test_key,test_key_limits,selected_product)"
   ]
  },
  {
   "cell_type": "markdown",
   "metadata": {},
   "source": [
    "##### TDB Boxplot - Differences in the tint blue/yellow value between ingredient combinations"
   ]
  },
  {
   "cell_type": "code",
   "execution_count": null,
   "metadata": {},
   "outputs": [],
   "source": [
    "test_key = 'TDB'\n",
    "test_key_limits = prod_spec_dict[test_key]\n",
    "create_boxplot(target_df,test_key,test_key_limits,selected_product)"
   ]
  },
  {
   "cell_type": "markdown",
   "metadata": {},
   "source": [
    "The red lines on each boxplot above represent upper and lower product specifications. Through these the preferred ingredient combinations to best produce material within customer specifications can be seen. "
   ]
  }
 ],
 "metadata": {
  "kernelspec": {
   "display_name": "Python 3.10.4 ('TestProjectCK')",
   "language": "python",
   "name": "python3"
  },
  "language_info": {
   "codemirror_mode": {
    "name": "ipython",
    "version": 3
   },
   "file_extension": ".py",
   "mimetype": "text/x-python",
   "name": "python",
   "nbconvert_exporter": "python",
   "pygments_lexer": "ipython3",
   "version": "3.10.4"
  },
  "orig_nbformat": 4,
  "vscode": {
   "interpreter": {
    "hash": "827da1798961850d15bd0ba78ed3593ee5e07b854ca58ceb926ed68f9e586ea0"
   }
  }
 },
 "nbformat": 4,
 "nbformat_minor": 2
}
