{
 "cells": [
  {
   "cell_type": "code",
   "execution_count": 23,
   "metadata": {},
   "outputs": [],
   "source": [
    "import pandas as pd\n",
    "import numpy as np\n",
    "import os"
   ]
  },
  {
   "cell_type": "code",
   "execution_count": 24,
   "metadata": {},
   "outputs": [],
   "source": [
    "def list_files(files):\n",
    "    \"\"\"Accepts a list and returns a dictionary of each item in list with a numbered index (key) starting at 1\"\"\"\n",
    "\n",
    "    dir_list = {0:'Exit'}\n",
    "    file_count = 0\n",
    "    for file in files:\n",
    "        file_count +=1\n",
    "        dir_list[file_count] = file  # assign a number to each item in the list starting with 1 \n",
    "    return dir_list  # returns the dictionary of items in the list\n",
    "\n",
    "def print_dict(dict_items):\n",
    "    \"\"\"Prints the (key : value) pairing in a dictionary\"\"\"\n",
    "\n",
    "    for key, value in dict_items.items():\n",
    "        print(key, \":\", value)    \n",
    "\n",
    "def check_dict(dict_to_check, choice):\n",
    "    \"\"\"Checks if the input choice is a key in the provided dictionary\n",
    "        and returns 'valid' if true, 'invalid' if false\"\"\"\n",
    "\n",
    "    if choice in dict_to_check:\n",
    "        return \"valid\"\n",
    "    else:\n",
    "        return \"invalid\"\n",
    "\n",
    "def error_message(invalid_choice):\n",
    "    print(f\"Your input of '{invalid_choice}' is not a valid choice. Try again!\")\n",
    "\n",
    "def validate_int(user_input):\n",
    "    \"\"\"Checks if user input is an int or can be converted to an int. If true returns 'valid', if false returns 'invalid'\"\"\"\n",
    "\n",
    "    try:\n",
    "        int(float(user_input))\n",
    "        return \"valid\"\n",
    "    except ValueError:\n",
    "        return \"invalid\"\n",
    "\n",
    "def target_test_keys(keys): \n",
    "    \"\"\"Accepts a list of lists and returns a list of the first value from each list\"\"\"\n",
    "    \n",
    "    spec_keys = []\n",
    "    for i in range(len(keys)):\n",
    "        spec_keys.append(keys[i][0])\n",
    "    return spec_keys\n",
    "\n",
    "def get_target_columns(col_list, spec_keys):\n",
    "    target_columns = []\n",
    "    for i in range(len(col_list)):\n",
    "        if col_list[i] in spec_keys:\n",
    "            target_columns.append(col_list[i])\n",
    "    return target_columns\n",
    "\n",
    "def create_spec_dict(spec_arr):\n",
    "    new_dict = {}\n",
    "    new_list = []\n",
    "    for i in range(len(spec_arr)):\n",
    "        new_list = [spec_arr[i][1],spec_arr[i][2]]\n",
    "        new_dict[spec_arr[i][0]] = new_list\n",
    "    return new_dict\n",
    "\n",
    "def combine_limits(targ_col,prod_spec_dict):  # This is making an assumption that the lower limits are listed before upper limits in specifications file\n",
    "    prod_ll = []\n",
    "    prod_ul = []\n",
    "    prod_ll_dict = {}\n",
    "    prod_ul_dict = {}\n",
    "    for i in range(len(targ_col)):\n",
    "        key = targ_col[i]\n",
    "        prod_ll.append(prod_spec_dict[key][0])\n",
    "        prod_ul.append(prod_spec_dict[key][1])\n",
    "        \n",
    "    prod_ll_dict['lower_limits'] = prod_ll  # create dict of lower limits\n",
    "    prod_ul_dict['upper_limits'] = prod_ul  # create dict of upper limits\n",
    "    return {**prod_ll_dict, **prod_ul_dict}  # return dict of both dictionaries"
   ]
  },
  {
   "cell_type": "markdown",
   "metadata": {},
   "source": [
    "### Display file options to user"
   ]
  },
  {
   "cell_type": "code",
   "execution_count": 25,
   "metadata": {},
   "outputs": [
    {
     "name": "stdout",
     "output_type": "stream",
     "text": [
      "0 : Exit\n",
      "1 : BR0010P850\n",
      "2 : YL0010C229\n"
     ]
    }
   ],
   "source": [
    "product_options = sorted(list(('BR0010P850','YL0010C229')))\n",
    "user_options = list_files(product_options)  # returned dict of files in directory\n",
    "print_dict(user_options)"
   ]
  },
  {
   "cell_type": "markdown",
   "metadata": {},
   "source": [
    "### Allow user to choose a product displayed above"
   ]
  },
  {
   "cell_type": "code",
   "execution_count": 26,
   "metadata": {},
   "outputs": [
    {
     "name": "stdout",
     "output_type": "stream",
     "text": [
      "You selected BR0010P850\n"
     ]
    }
   ],
   "source": [
    "user_choice = input('Enter the number next to the file to open. (0 to exit): ')\n",
    "validate_choice = validate_int(user_choice) # confirm user input is an int or can be converted to an int \n",
    "if validate_choice == 'valid':\n",
    "    user_choice = int(float(user_choice))\n",
    "    validate_choice = check_dict(user_options, user_choice) # check to see if user input is a key in the dictionary\n",
    "while validate_choice == 'invalid':\n",
    "    error_message(user_choice)\n",
    "    user_choice = input('Enter the number next to the file to open. (0 to exit): ')\n",
    "    validate_choice = validate_int(user_choice)\n",
    "    if validate_choice == 'valid':\n",
    "        user_choice = int(float(user_choice))\n",
    "        validate_choice = check_dict(user_options, user_choice) # check to see if user input is a key in the dictionary\n",
    "\n",
    "selected_product = user_options[user_choice]\n",
    "if selected_product == 'Exit':\n",
    "    print(f'No product selected')\n",
    "else:\n",
    "    print(f'You selected {selected_product}')"
   ]
  },
  {
   "cell_type": "markdown",
   "metadata": {},
   "source": [
    "### Set file paths"
   ]
  },
  {
   "cell_type": "code",
   "execution_count": 27,
   "metadata": {},
   "outputs": [],
   "source": [
    "if selected_product == 'Exit':\n",
    "    print('No product was selected from the cell above. Please select a product in the cell above to continue.')\n",
    "else:\n",
    "    path = 'data/'\n",
    "    file_ext = \".xlsx\"\n",
    "    prod_ingredient_file = path + selected_product + \"_ingredients\" + file_ext\n",
    "    prod_color_results = path + selected_product + \"_color_results\" + file_ext\n",
    "    approved_ingredients = path + \"approved_ingredients\" + file_ext  # all products are in this file\n",
    "    formulas = path + \"formulas\" + file_ext  # all products are in this file\n",
    "    specifications = path + \"specifications\" + file_ext  # all product specs are in this file"
   ]
  },
  {
   "cell_type": "markdown",
   "metadata": {},
   "source": [
    "### Read files into pandas dataframe"
   ]
  },
  {
   "cell_type": "code",
   "execution_count": 28,
   "metadata": {},
   "outputs": [],
   "source": [
    "ingredient_df = pd.read_excel(prod_ingredient_file)  # ingriendients used for each batch of selected product\n",
    "color_results_df= pd.read_excel(prod_color_results)  # color results for each batch of selected product\n",
    "approv_ingred_df = pd.read_excel(approved_ingredients).sort_values(by=['Material','rm_code'])\n",
    "approv_ingred_df = approv_ingred_df[approv_ingred_df['Material']== selected_product + '-RMIX']  # filter df by selected product\n",
    "formula_df = pd.read_excel(formulas).sort_values(by=['Material','Ingredient'])\n",
    "formula_df = formula_df[formula_df['Material']== selected_product + '-RMIX']  # filter df by selected product\n",
    "product_specs_df = pd.read_excel(specifications)\n",
    "product_specs_df = product_specs_df[product_specs_df['product'] == selected_product].set_index('product')"
   ]
  },
  {
   "cell_type": "markdown",
   "metadata": {},
   "source": [
    "### Investigate ingredient df for null values and data types"
   ]
  },
  {
   "cell_type": "code",
   "execution_count": 29,
   "metadata": {},
   "outputs": [
    {
     "name": "stdout",
     "output_type": "stream",
     "text": [
      "<class 'pandas.core.frame.DataFrame'>\n",
      "RangeIndex: 230 entries, 0 to 229\n",
      "Data columns (total 11 columns):\n",
      " #   Column                      Non-Null Count  Dtype         \n",
      "---  ------                      --------------  -----         \n",
      " 0   Date Issued                 66 non-null     datetime64[ns]\n",
      " 1   Material                    230 non-null    object        \n",
      " 2   Order                       66 non-null     float64       \n",
      " 3   RMIX Batch                  230 non-null    int64         \n",
      " 4   Antimony Oxide              230 non-null    object        \n",
      " 5   Manganic Oxide              230 non-null    object        \n",
      " 6   Titanium Dioxide - Anatase  230 non-null    object        \n",
      " 7   Kiln                        66 non-null     float64       \n",
      " 8   Hearth                      0 non-null      float64       \n",
      " 9   Cycle                       0 non-null      float64       \n",
      " 10  Temp                        0 non-null      float64       \n",
      "dtypes: datetime64[ns](1), float64(5), int64(1), object(4)\n",
      "memory usage: 19.9+ KB\n",
      "None\n"
     ]
    }
   ],
   "source": [
    "print(ingredient_df.info())"
   ]
  },
  {
   "cell_type": "markdown",
   "metadata": {},
   "source": [
    "### Modify ingredient df as needed"
   ]
  },
  {
   "cell_type": "code",
   "execution_count": 30,
   "metadata": {},
   "outputs": [],
   "source": [
    "ingredient_df_mod =  ingredient_df.drop(columns=['Date Issued', 'Order',\n",
    "       'Kiln', 'Hearth', 'Cycle', 'Temp'])\n",
    "ingredient_df_mod['RMIX Batch'] = ingredient_df_mod['RMIX Batch'].astype(str)  # RMIX Batch looks like an int but should be treated like a string"
   ]
  },
  {
   "cell_type": "markdown",
   "metadata": {},
   "source": [
    "### Investigate color results df for null values and data types"
   ]
  },
  {
   "cell_type": "code",
   "execution_count": 31,
   "metadata": {},
   "outputs": [
    {
     "name": "stdout",
     "output_type": "stream",
     "text": [
      "<class 'pandas.core.frame.DataFrame'>\n",
      "RangeIndex: 221 entries, 0 to 220\n",
      "Data columns (total 10 columns):\n",
      " #   Column      Non-Null Count  Dtype  \n",
      "---  ------      --------------  -----  \n",
      " 0   RMIX Batch  221 non-null    int64  \n",
      " 1   Fin Batch   221 non-null    int64  \n",
      " 2   Equip       221 non-null    object \n",
      " 3   MDL         221 non-null    float64\n",
      " 4   MDA         221 non-null    float64\n",
      " 5   MDB         221 non-null    float64\n",
      " 6   TDL         221 non-null    float64\n",
      " 7   TDA         221 non-null    float64\n",
      " 8   TDB         221 non-null    float64\n",
      " 9   STR         221 non-null    int64  \n",
      "dtypes: float64(6), int64(3), object(1)\n",
      "memory usage: 17.4+ KB\n",
      "None\n"
     ]
    }
   ],
   "source": [
    "print(color_results_df.info())"
   ]
  },
  {
   "cell_type": "markdown",
   "metadata": {},
   "source": [
    "### Modify color results df as needed"
   ]
  },
  {
   "cell_type": "code",
   "execution_count": 32,
   "metadata": {},
   "outputs": [],
   "source": [
    "# color_results_df_mod =  color_results_df.drop(columns=[''])\n",
    "color_results_df_mod = color_results_df\n",
    "color_results_df_mod[['RMIX Batch','Fin Batch']] = color_results_df_mod[['RMIX Batch','Fin Batch']].astype(str)  # RMIX Batch & Fin Batch should be treated like a string"
   ]
  },
  {
   "cell_type": "markdown",
   "metadata": {},
   "source": [
    "### Merge ingredient df and color df"
   ]
  },
  {
   "cell_type": "code",
   "execution_count": 33,
   "metadata": {},
   "outputs": [],
   "source": [
    "df = ingredient_df_mod.merge(color_results_df_mod,how='left',left_on='RMIX Batch',right_on='RMIX Batch')"
   ]
  },
  {
   "cell_type": "code",
   "execution_count": 34,
   "metadata": {},
   "outputs": [
    {
     "name": "stdout",
     "output_type": "stream",
     "text": [
      "<class 'pandas.core.frame.DataFrame'>\n",
      "Int64Index: 231 entries, 0 to 230\n",
      "Data columns (total 14 columns):\n",
      " #   Column                      Non-Null Count  Dtype  \n",
      "---  ------                      --------------  -----  \n",
      " 0   Material                    231 non-null    object \n",
      " 1   RMIX Batch                  231 non-null    object \n",
      " 2   Antimony Oxide              231 non-null    object \n",
      " 3   Manganic Oxide              231 non-null    object \n",
      " 4   Titanium Dioxide - Anatase  231 non-null    object \n",
      " 5   Fin Batch                   203 non-null    object \n",
      " 6   Equip                       203 non-null    object \n",
      " 7   MDL                         203 non-null    float64\n",
      " 8   MDA                         203 non-null    float64\n",
      " 9   MDB                         203 non-null    float64\n",
      " 10  TDL                         203 non-null    float64\n",
      " 11  TDA                         203 non-null    float64\n",
      " 12  TDB                         203 non-null    float64\n",
      " 13  STR                         203 non-null    float64\n",
      "dtypes: float64(7), object(7)\n",
      "memory usage: 27.1+ KB\n"
     ]
    }
   ],
   "source": [
    "df.info()"
   ]
  },
  {
   "cell_type": "markdown",
   "metadata": {},
   "source": [
    "### Only interested in rows that have both ingredients and color values"
   ]
  },
  {
   "cell_type": "code",
   "execution_count": 35,
   "metadata": {},
   "outputs": [],
   "source": [
    "df = df.dropna()"
   ]
  },
  {
   "cell_type": "markdown",
   "metadata": {},
   "source": [
    "### Arrange product specifications to compare against color results"
   ]
  },
  {
   "cell_type": "code",
   "execution_count": 36,
   "metadata": {},
   "outputs": [],
   "source": [
    "prod_specs_arr = product_specs_df.values  # create numpy array from product specifications df\n",
    "prod_target_keys = target_test_keys(prod_specs_arr)  # creates a list of product test keys that are in specifications file\n",
    "target_columns = get_target_columns(df.columns, prod_target_keys)  # creates a list of column name values from the selected file that match values in prod_target_keys list\n",
    "prod_spec_dict = create_spec_dict(prod_specs_arr)  # creates a dict of prod test keys {key = test key: value = [lower limit value, upper limit value]}\n",
    "prod_limits_dict = combine_limits(target_columns,prod_spec_dict) # create dict of all product limits {key = upper_limits or lower_limits: value = [all test key limits]}"
   ]
  },
  {
   "cell_type": "markdown",
   "metadata": {},
   "source": [
    "### Compare product color results versus product specifications"
   ]
  },
  {
   "cell_type": "code",
   "execution_count": 37,
   "metadata": {},
   "outputs": [],
   "source": [
    "test_values = df[target_columns].to_numpy(dtype=float)  # numpy array of color results that have an associated product specification\n",
    "lower_limits = np.array(prod_limits_dict['lower_limits'])\n",
    "upper_limits = np.array(prod_limits_dict['upper_limits'])\n",
    "is_below_ll = (np.less(test_values,lower_limits))  # array displays true if test value below lower spec limit\n",
    "is_above_ul = (np.greater(test_values,upper_limits))  # array displays true if test value above upper spec limit\n",
    "combined_arr = np.add(is_below_ll, is_above_ul)  # adds the two boolean arrays \n",
    "# create dataframe of the reverse boolean numpy array (using ~)\n",
    "combined_df_in_spec = ~pd.DataFrame(data=combined_arr[0:,0:],\n",
    "                        index=(df['Fin Batch'].values),  #  assuming \"Lot\" is a column name in selected product file\n",
    "                        columns=target_columns)"
   ]
  },
  {
   "cell_type": "markdown",
   "metadata": {},
   "source": [
    "### Merge in spec column into combined df. This will be the working df."
   ]
  },
  {
   "cell_type": "code",
   "execution_count": 38,
   "metadata": {},
   "outputs": [],
   "source": [
    "combined_df_in_spec['is_in_spec'] = combined_df_in_spec.prod(1)  # create column in df to show if all test results for a batch are within all specifications\n",
    "batch_in_spec_df = combined_df_in_spec['is_in_spec']\n",
    "target_df = df.merge(batch_in_spec_df, how='left', left_on='Fin Batch', right_index=True)"
   ]
  },
  {
   "cell_type": "code",
   "execution_count": null,
   "metadata": {},
   "outputs": [],
   "source": []
  },
  {
   "cell_type": "code",
   "execution_count": null,
   "metadata": {},
   "outputs": [],
   "source": []
  },
  {
   "cell_type": "code",
   "execution_count": null,
   "metadata": {},
   "outputs": [],
   "source": []
  },
  {
   "cell_type": "code",
   "execution_count": null,
   "metadata": {},
   "outputs": [],
   "source": []
  },
  {
   "cell_type": "code",
   "execution_count": null,
   "metadata": {},
   "outputs": [],
   "source": []
  },
  {
   "cell_type": "code",
   "execution_count": null,
   "metadata": {},
   "outputs": [],
   "source": []
  },
  {
   "cell_type": "code",
   "execution_count": null,
   "metadata": {},
   "outputs": [],
   "source": []
  },
  {
   "cell_type": "code",
   "execution_count": null,
   "metadata": {},
   "outputs": [],
   "source": []
  },
  {
   "cell_type": "code",
   "execution_count": null,
   "metadata": {},
   "outputs": [],
   "source": []
  },
  {
   "cell_type": "code",
   "execution_count": null,
   "metadata": {},
   "outputs": [],
   "source": []
  }
 ],
 "metadata": {
  "kernelspec": {
   "display_name": "Python 3.10.4 ('TestProjectCK')",
   "language": "python",
   "name": "python3"
  },
  "language_info": {
   "codemirror_mode": {
    "name": "ipython",
    "version": 3
   },
   "file_extension": ".py",
   "mimetype": "text/x-python",
   "name": "python",
   "nbconvert_exporter": "python",
   "pygments_lexer": "ipython3",
   "version": "3.10.4"
  },
  "orig_nbformat": 4,
  "vscode": {
   "interpreter": {
    "hash": "827da1798961850d15bd0ba78ed3593ee5e07b854ca58ceb926ed68f9e586ea0"
   }
  }
 },
 "nbformat": 4,
 "nbformat_minor": 2
}
